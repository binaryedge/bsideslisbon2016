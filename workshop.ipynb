{
 "cells": [
  {
   "cell_type": "code",
   "execution_count": 2,
   "metadata": {
    "collapsed": true,
    "hide_input": true
   },
   "outputs": [],
   "source": [
    "import warnings\n",
    "warnings.filterwarnings(\"ignore\")"
   ]
  },
  {
   "cell_type": "markdown",
   "metadata": {},
   "source": [
    "#### Before opening the notebook:\n",
    "- Explore the data on a text file a little - check for instance that the number and type of fields in each line varies, which is a complication if, for instance, you which to analyse the data with bash"
   ]
  },
  {
   "cell_type": "markdown",
   "metadata": {},
   "source": [
    "#### Jupyter Notebook\n",
    "- The notebook allows us to run blocks of code and get an output immediately, much like a REPL\n",
    "- At the end, its possible to export the results as a report, which is an advantage to use a notebook instead of the REPL"
   ]
  },
  {
   "cell_type": "markdown",
   "metadata": {},
   "source": [
    "#### Pandas\n",
    "- Pandas allows us to work with the data on a table - a dataframe - and apply countless useful functions for data manipulation and analysis\n",
    "- When loading the data to a dataframe, all data is put in memory, so if the data if large enough, its impractical do use pandas. In those cases, you might need to perform some cleaning of sharding before importing, use a raw Python script, or a distributed framework such as Apache Spark"
   ]
  },
  {
   "cell_type": "code",
   "execution_count": 3,
   "metadata": {
    "collapsed": true
   },
   "outputs": [],
   "source": [
    "#Import pandas as pd, to shorten the name each time we need it\n",
    "import pandas as pd"
   ]
  },
  {
   "cell_type": "markdown",
   "metadata": {},
   "source": [
    "Our data is comprised by several individual nested json objects instead of a single json array, which pandas does not handle well. Because of that, you might need to do a slight manipulation before loading the data to a dataframe."
   ]
  },
  {
   "cell_type": "code",
   "execution_count": 4,
   "metadata": {
    "collapsed": false
   },
   "outputs": [],
   "source": [
    "def convert_json_file_to_dataframe(file):\n",
    "    with open(file, 'rb') as f:\n",
    "        data = f.readlines()\n",
    "\n",
    "    data = map(lambda x: x.rstrip(), data)\n",
    "    data_json_str = \"[\" + ','.join(data) + \"]\"\n",
    "    df = pd.read_json(data_json_str)\n",
    "\n",
    "    return df"
   ]
  },
  {
   "cell_type": "markdown",
   "metadata": {},
   "source": [
    "Our json's main fields are setup as columns in the dataframe\n",
    "- \"origin\", \"target\", \"status\" and \"result\""
   ]
  },
  {
   "cell_type": "code",
   "execution_count": 5,
   "metadata": {
    "collapsed": true
   },
   "outputs": [],
   "source": [
    "file_name = 'ssh_test'"
   ]
  },
  {
   "cell_type": "code",
   "execution_count": 6,
   "metadata": {
    "collapsed": false
   },
   "outputs": [],
   "source": [
    "df = convert_json_file_to_dataframe(file_name)"
   ]
  },
  {
   "cell_type": "code",
   "execution_count": 7,
   "metadata": {
    "collapsed": false
   },
   "outputs": [
    {
     "data": {
      "text/html": [
       "<div>\n",
       "<table border=\"1\" class=\"dataframe\">\n",
       "  <thead>\n",
       "    <tr style=\"text-align: right;\">\n",
       "      <th></th>\n",
       "      <th>origin</th>\n",
       "      <th>result</th>\n",
       "      <th>target</th>\n",
       "    </tr>\n",
       "  </thead>\n",
       "  <tbody>\n",
       "    <tr>\n",
       "      <th>0</th>\n",
       "      <td>{u'job_id': u'demo-19d87145-c351-42ea-b766-9fe...</td>\n",
       "      <td>{u'response': u'synack'}</td>\n",
       "      <td>{u'ip': u'131.176.108.11', u'protocol': u'tcp'...</td>\n",
       "    </tr>\n",
       "    <tr>\n",
       "      <th>1</th>\n",
       "      <td>{u'job_id': u'demo-19d87145-c351-42ea-b766-9fe...</td>\n",
       "      <td>{u'response': u'synack'}</td>\n",
       "      <td>{u'ip': u'131.176.149.82', u'protocol': u'tcp'...</td>\n",
       "    </tr>\n",
       "    <tr>\n",
       "      <th>2</th>\n",
       "      <td>{u'job_id': u'demo-19d87145-c351-42ea-b766-9fe...</td>\n",
       "      <td>{u'response': u'synack'}</td>\n",
       "      <td>{u'ip': u'131.176.60.114', u'protocol': u'tcp'...</td>\n",
       "    </tr>\n",
       "    <tr>\n",
       "      <th>3</th>\n",
       "      <td>{u'job_id': u'demo-19d87145-c351-42ea-b766-9fe...</td>\n",
       "      <td>{u'response': u'synack'}</td>\n",
       "      <td>{u'ip': u'131.176.60.127', u'protocol': u'tcp'...</td>\n",
       "    </tr>\n",
       "    <tr>\n",
       "      <th>4</th>\n",
       "      <td>{u'job_id': u'demo-19d87145-c351-42ea-b766-9fe...</td>\n",
       "      <td>{u'response': u'synack'}</td>\n",
       "      <td>{u'ip': u'212.126.210.36', u'protocol': u'tcp'...</td>\n",
       "    </tr>\n",
       "    <tr>\n",
       "      <th>5</th>\n",
       "      <td>{u'job_id': u'demo-19d87145-c351-42ea-b766-9fe...</td>\n",
       "      <td>{u'response': u'synack'}</td>\n",
       "      <td>{u'ip': u'213.218.23.16', u'protocol': u'tcp',...</td>\n",
       "    </tr>\n",
       "    <tr>\n",
       "      <th>6</th>\n",
       "      <td>{u'job_id': u'demo-19d87145-c351-42ea-b766-9fe...</td>\n",
       "      <td>{u'response': u'synack'}</td>\n",
       "      <td>{u'ip': u'131.176.230.198', u'protocol': u'tcp...</td>\n",
       "    </tr>\n",
       "    <tr>\n",
       "      <th>7</th>\n",
       "      <td>{u'job_id': u'demo-19d87145-c351-42ea-b766-9fe...</td>\n",
       "      <td>{u'response': u'synack'}</td>\n",
       "      <td>{u'ip': u'131.176.60.196', u'protocol': u'tcp'...</td>\n",
       "    </tr>\n",
       "    <tr>\n",
       "      <th>8</th>\n",
       "      <td>{u'job_id': u'demo-19d87145-c351-42ea-b766-9fe...</td>\n",
       "      <td>{u'response': u'synack'}</td>\n",
       "      <td>{u'ip': u'213.218.5.34', u'protocol': u'tcp', ...</td>\n",
       "    </tr>\n",
       "    <tr>\n",
       "      <th>9</th>\n",
       "      <td>{u'job_id': u'demo-19d87145-c351-42ea-b766-9fe...</td>\n",
       "      <td>{u'response': u'synack'}</td>\n",
       "      <td>{u'ip': u'195.2.174.25', u'protocol': u'tcp', ...</td>\n",
       "    </tr>\n",
       "    <tr>\n",
       "      <th>10</th>\n",
       "      <td>{u'job_id': u'demo-19d87145-c351-42ea-b766-9fe...</td>\n",
       "      <td>{u'response': u'synack'}</td>\n",
       "      <td>{u'ip': u'131.176.230.222', u'protocol': u'tcp...</td>\n",
       "    </tr>\n",
       "    <tr>\n",
       "      <th>11</th>\n",
       "      <td>{u'job_id': u'demo-19d87145-c351-42ea-b766-9fe...</td>\n",
       "      <td>{u'response': u'synack'}</td>\n",
       "      <td>{u'ip': u'212.126.195.48', u'protocol': u'tcp'...</td>\n",
       "    </tr>\n",
       "    <tr>\n",
       "      <th>12</th>\n",
       "      <td>{u'job_id': u'demo-19d87145-c351-42ea-b766-9fe...</td>\n",
       "      <td>{u'response': u'synack'}</td>\n",
       "      <td>{u'ip': u'131.176.49.145', u'protocol': u'tcp'...</td>\n",
       "    </tr>\n",
       "    <tr>\n",
       "      <th>13</th>\n",
       "      <td>{u'job_id': u'demo-19d87145-c351-42ea-b766-9fe...</td>\n",
       "      <td>{u'response': u'synack'}</td>\n",
       "      <td>{u'ip': u'212.126.222.10', u'protocol': u'tcp'...</td>\n",
       "    </tr>\n",
       "    <tr>\n",
       "      <th>14</th>\n",
       "      <td>{u'job_id': u'demo-19d87145-c351-42ea-b766-9fe...</td>\n",
       "      <td>{u'response': u'synack'}</td>\n",
       "      <td>{u'ip': u'213.218.23.10', u'protocol': u'tcp',...</td>\n",
       "    </tr>\n",
       "    <tr>\n",
       "      <th>15</th>\n",
       "      <td>{u'job_id': u'demo-19d87145-c351-42ea-b766-9fe...</td>\n",
       "      <td>{u'response': u'synack'}</td>\n",
       "      <td>{u'ip': u'213.218.21.107', u'protocol': u'tcp'...</td>\n",
       "    </tr>\n",
       "    <tr>\n",
       "      <th>16</th>\n",
       "      <td>{u'job_id': u'demo-19d87145-c351-42ea-b766-9fe...</td>\n",
       "      <td>{u'response': u'synack'}</td>\n",
       "      <td>{u'ip': u'213.218.0.170', u'protocol': u'tcp',...</td>\n",
       "    </tr>\n",
       "    <tr>\n",
       "      <th>17</th>\n",
       "      <td>{u'job_id': u'demo-19d87145-c351-42ea-b766-9fe...</td>\n",
       "      <td>{u'response': u'synack'}</td>\n",
       "      <td>{u'ip': u'131.176.230.227', u'protocol': u'tcp...</td>\n",
       "    </tr>\n",
       "    <tr>\n",
       "      <th>18</th>\n",
       "      <td>{u'job_id': u'demo-19d87145-c351-42ea-b766-9fe...</td>\n",
       "      <td>{u'response': u'synack'}</td>\n",
       "      <td>{u'ip': u'131.176.203.183', u'protocol': u'tcp...</td>\n",
       "    </tr>\n",
       "    <tr>\n",
       "      <th>19</th>\n",
       "      <td>{u'job_id': u'demo-19d87145-c351-42ea-b766-9fe...</td>\n",
       "      <td>{u'response': u'synack'}</td>\n",
       "      <td>{u'ip': u'131.176.60.195', u'protocol': u'tcp'...</td>\n",
       "    </tr>\n",
       "    <tr>\n",
       "      <th>20</th>\n",
       "      <td>{u'job_id': u'demo-19d87145-c351-42ea-b766-9fe...</td>\n",
       "      <td>{u'response': u'synack'}</td>\n",
       "      <td>{u'ip': u'131.176.230.224', u'protocol': u'tcp...</td>\n",
       "    </tr>\n",
       "    <tr>\n",
       "      <th>21</th>\n",
       "      <td>{u'job_id': u'demo-19d87145-c351-42ea-b766-9fe...</td>\n",
       "      <td>{u'response': u'synack'}</td>\n",
       "      <td>{u'ip': u'212.126.222.146', u'protocol': u'tcp...</td>\n",
       "    </tr>\n",
       "    <tr>\n",
       "      <th>22</th>\n",
       "      <td>{u'job_id': u'demo-19d87145-c351-42ea-b766-9fe...</td>\n",
       "      <td>{u'response': u'synack'}</td>\n",
       "      <td>{u'ip': u'131.176.149.81', u'protocol': u'tcp'...</td>\n",
       "    </tr>\n",
       "    <tr>\n",
       "      <th>23</th>\n",
       "      <td>{u'job_id': u'demo-19d87145-c351-42ea-b766-9fe...</td>\n",
       "      <td>{u'response': u'synack'}</td>\n",
       "      <td>{u'ip': u'131.176.145.137', u'protocol': u'tcp...</td>\n",
       "    </tr>\n",
       "    <tr>\n",
       "      <th>24</th>\n",
       "      <td>{u'job_id': u'demo-19d87145-c351-42ea-b766-9fe...</td>\n",
       "      <td>{u'response': u'synack'}</td>\n",
       "      <td>{u'ip': u'131.176.230.226', u'protocol': u'tcp...</td>\n",
       "    </tr>\n",
       "    <tr>\n",
       "      <th>25</th>\n",
       "      <td>{u'job_id': u'demo-19d87145-c351-42ea-b766-9fe...</td>\n",
       "      <td>{u'response': u'synack'}</td>\n",
       "      <td>{u'ip': u'212.126.222.2', u'protocol': u'tcp',...</td>\n",
       "    </tr>\n",
       "    <tr>\n",
       "      <th>26</th>\n",
       "      <td>{u'job_id': u'demo-19d87145-c351-42ea-b766-9fe...</td>\n",
       "      <td>{u'response': u'synack'}</td>\n",
       "      <td>{u'ip': u'213.218.26.246', u'protocol': u'tcp'...</td>\n",
       "    </tr>\n",
       "    <tr>\n",
       "      <th>27</th>\n",
       "      <td>{u'job_id': u'demo-19d87145-c351-42ea-b766-9fe...</td>\n",
       "      <td>{u'response': u'synack'}</td>\n",
       "      <td>{u'ip': u'131.176.203.182', u'protocol': u'tcp...</td>\n",
       "    </tr>\n",
       "    <tr>\n",
       "      <th>28</th>\n",
       "      <td>{u'job_id': u'demo-19d87145-c351-42ea-b766-9fe...</td>\n",
       "      <td>{u'response': u'synack'}</td>\n",
       "      <td>{u'ip': u'131.176.29.94', u'protocol': u'tcp',...</td>\n",
       "    </tr>\n",
       "    <tr>\n",
       "      <th>29</th>\n",
       "      <td>{u'job_id': u'demo-19d87145-c351-42ea-b766-9fe...</td>\n",
       "      <td>{u'response': u'synack'}</td>\n",
       "      <td>{u'ip': u'131.176.161.12', u'protocol': u'tcp'...</td>\n",
       "    </tr>\n",
       "    <tr>\n",
       "      <th>...</th>\n",
       "      <td>...</td>\n",
       "      <td>...</td>\n",
       "      <td>...</td>\n",
       "    </tr>\n",
       "    <tr>\n",
       "      <th>147</th>\n",
       "      <td>{u'job_id': u'demo-19d87145-c351-42ea-b766-9fe...</td>\n",
       "      <td>{u'data': {u'state': {u'state': u'open'}, u'se...</td>\n",
       "      <td>{u'ip': u'213.218.0.170', u'protocol': u'tcp',...</td>\n",
       "    </tr>\n",
       "    <tr>\n",
       "      <th>148</th>\n",
       "      <td>{u'job_id': u'demo-19d87145-c351-42ea-b766-9fe...</td>\n",
       "      <td>{u'data': {u'state': {u'state': u'open'}, u'se...</td>\n",
       "      <td>{u'ip': u'213.218.21.108', u'protocol': u'tcp'...</td>\n",
       "    </tr>\n",
       "    <tr>\n",
       "      <th>149</th>\n",
       "      <td>{u'job_id': u'demo-19d87145-c351-42ea-b766-9fe...</td>\n",
       "      <td>{u'data': {u'state': {u'state': u'open'}, u'se...</td>\n",
       "      <td>{u'ip': u'131.176.230.222', u'protocol': u'tcp...</td>\n",
       "    </tr>\n",
       "    <tr>\n",
       "      <th>150</th>\n",
       "      <td>{u'job_id': u'demo-19d87145-c351-42ea-b766-9fe...</td>\n",
       "      <td>{u'data': {u'state': {u'state': u'open'}, u'se...</td>\n",
       "      <td>{u'ip': u'212.126.220.243', u'protocol': u'tcp...</td>\n",
       "    </tr>\n",
       "    <tr>\n",
       "      <th>151</th>\n",
       "      <td>{u'job_id': u'demo-19d87145-c351-42ea-b766-9fe...</td>\n",
       "      <td>{u'data': {u'state': {u'state': u'open'}, u'se...</td>\n",
       "      <td>{u'ip': u'131.176.230.221', u'protocol': u'tcp...</td>\n",
       "    </tr>\n",
       "    <tr>\n",
       "      <th>152</th>\n",
       "      <td>{u'job_id': u'demo-19d87145-c351-42ea-b766-9fe...</td>\n",
       "      <td>{u'data': {u'state': {u'state': u'open'}, u'se...</td>\n",
       "      <td>{u'ip': u'131.176.49.211', u'protocol': u'tcp'...</td>\n",
       "    </tr>\n",
       "    <tr>\n",
       "      <th>153</th>\n",
       "      <td>{u'job_id': u'demo-19d87145-c351-42ea-b766-9fe...</td>\n",
       "      <td>{u'data': {u'state': {u'state': u'open'}, u'se...</td>\n",
       "      <td>{u'ip': u'213.218.23.16', u'protocol': u'tcp',...</td>\n",
       "    </tr>\n",
       "    <tr>\n",
       "      <th>154</th>\n",
       "      <td>{u'job_id': u'demo-19d87145-c351-42ea-b766-9fe...</td>\n",
       "      <td>{u'data': {u'state': {u'state': u'open'}, u'se...</td>\n",
       "      <td>{u'ip': u'131.176.60.195', u'protocol': u'tcp'...</td>\n",
       "    </tr>\n",
       "    <tr>\n",
       "      <th>155</th>\n",
       "      <td>{u'job_id': u'demo-19d87145-c351-42ea-b766-9fe...</td>\n",
       "      <td>{u'data': {u'state': {u'state': u'open'}, u'se...</td>\n",
       "      <td>{u'ip': u'212.126.195.48', u'protocol': u'tcp'...</td>\n",
       "    </tr>\n",
       "    <tr>\n",
       "      <th>156</th>\n",
       "      <td>{u'job_id': u'demo-19d87145-c351-42ea-b766-9fe...</td>\n",
       "      <td>{u'data': {u'state': {u'state': u'open'}, u'se...</td>\n",
       "      <td>{u'ip': u'213.218.23.23', u'protocol': u'tcp',...</td>\n",
       "    </tr>\n",
       "    <tr>\n",
       "      <th>157</th>\n",
       "      <td>{u'job_id': u'demo-19d87145-c351-42ea-b766-9fe...</td>\n",
       "      <td>{u'data': {u'state': {u'state': u'open'}, u'se...</td>\n",
       "      <td>{u'ip': u'131.176.60.114', u'protocol': u'tcp'...</td>\n",
       "    </tr>\n",
       "    <tr>\n",
       "      <th>158</th>\n",
       "      <td>{u'job_id': u'demo-19d87145-c351-42ea-b766-9fe...</td>\n",
       "      <td>{u'data': {u'state': {u'state': u'open'}, u'se...</td>\n",
       "      <td>{u'ip': u'213.218.23.195', u'protocol': u'tcp'...</td>\n",
       "    </tr>\n",
       "    <tr>\n",
       "      <th>159</th>\n",
       "      <td>{u'job_id': u'demo-19d87145-c351-42ea-b766-9fe...</td>\n",
       "      <td>{u'data': {u'state': {u'state': u'open'}, u'se...</td>\n",
       "      <td>{u'ip': u'131.176.161.12', u'protocol': u'tcp'...</td>\n",
       "    </tr>\n",
       "    <tr>\n",
       "      <th>160</th>\n",
       "      <td>{u'job_id': u'demo-19d87145-c351-42ea-b766-9fe...</td>\n",
       "      <td>{u'data': {u'state': {u'state': u'open'}, u'se...</td>\n",
       "      <td>{u'ip': u'213.218.23.18', u'protocol': u'tcp',...</td>\n",
       "    </tr>\n",
       "    <tr>\n",
       "      <th>161</th>\n",
       "      <td>{u'job_id': u'demo-19d87145-c351-42ea-b766-9fe...</td>\n",
       "      <td>{u'data': {u'state': {u'state': u'open'}, u'se...</td>\n",
       "      <td>{u'ip': u'131.176.203.183', u'protocol': u'tcp...</td>\n",
       "    </tr>\n",
       "    <tr>\n",
       "      <th>162</th>\n",
       "      <td>{u'job_id': u'demo-19d87145-c351-42ea-b766-9fe...</td>\n",
       "      <td>{u'data': {u'state': {u'state': u'open|filtere...</td>\n",
       "      <td>{u'ip': u'213.218.26.246', u'protocol': u'tcp'...</td>\n",
       "    </tr>\n",
       "    <tr>\n",
       "      <th>163</th>\n",
       "      <td>{u'job_id': u'demo-19d87145-c351-42ea-b766-9fe...</td>\n",
       "      <td>{u'data': {u'state': {u'state': u'open'}, u'se...</td>\n",
       "      <td>{u'ip': u'131.176.60.196', u'protocol': u'tcp'...</td>\n",
       "    </tr>\n",
       "    <tr>\n",
       "      <th>164</th>\n",
       "      <td>{u'job_id': u'demo-19d87145-c351-42ea-b766-9fe...</td>\n",
       "      <td>{u'data': {u'state': {u'state': u'open'}, u'se...</td>\n",
       "      <td>{u'ip': u'212.126.222.2', u'protocol': u'tcp',...</td>\n",
       "    </tr>\n",
       "    <tr>\n",
       "      <th>165</th>\n",
       "      <td>{u'job_id': u'demo-19d87145-c351-42ea-b766-9fe...</td>\n",
       "      <td>{u'data': {u'state': {u'state': u'open'}, u'se...</td>\n",
       "      <td>{u'ip': u'131.176.230.229', u'protocol': u'tcp...</td>\n",
       "    </tr>\n",
       "    <tr>\n",
       "      <th>166</th>\n",
       "      <td>{u'job_id': u'demo-19d87145-c351-42ea-b766-9fe...</td>\n",
       "      <td>{u'data': {u'state': {u'state': u'open'}, u'se...</td>\n",
       "      <td>{u'ip': u'131.176.161.11', u'protocol': u'tcp'...</td>\n",
       "    </tr>\n",
       "    <tr>\n",
       "      <th>167</th>\n",
       "      <td>{u'job_id': u'demo-19d87145-c351-42ea-b766-9fe...</td>\n",
       "      <td>{u'data': {u'state': {u'state': u'open'}, u'se...</td>\n",
       "      <td>{u'ip': u'131.176.49.7', u'protocol': u'tcp', ...</td>\n",
       "    </tr>\n",
       "    <tr>\n",
       "      <th>168</th>\n",
       "      <td>{u'job_id': u'demo-19d87145-c351-42ea-b766-9fe...</td>\n",
       "      <td>{u'data': {u'state': {u'state': u'open'}, u'se...</td>\n",
       "      <td>{u'ip': u'131.176.49.163', u'protocol': u'tcp'...</td>\n",
       "    </tr>\n",
       "    <tr>\n",
       "      <th>169</th>\n",
       "      <td>{u'job_id': u'demo-19d87145-c351-42ea-b766-9fe...</td>\n",
       "      <td>{u'data': {u'state': {u'state': u'open'}, u'se...</td>\n",
       "      <td>{u'ip': u'213.218.5.34', u'protocol': u'tcp', ...</td>\n",
       "    </tr>\n",
       "    <tr>\n",
       "      <th>170</th>\n",
       "      <td>{u'job_id': u'demo-19d87145-c351-42ea-b766-9fe...</td>\n",
       "      <td>{u'data': {u'state': {u'state': u'open'}, u'se...</td>\n",
       "      <td>{u'ip': u'195.2.172.45', u'protocol': u'tcp', ...</td>\n",
       "    </tr>\n",
       "    <tr>\n",
       "      <th>171</th>\n",
       "      <td>{u'job_id': u'demo-19d87145-c351-42ea-b766-9fe...</td>\n",
       "      <td>{u'data': {u'banner': u'SSH-2.0-CrushFTPSSHD',...</td>\n",
       "      <td>{u'ip': u'131.176.230.198', u'port': 22}</td>\n",
       "    </tr>\n",
       "    <tr>\n",
       "      <th>172</th>\n",
       "      <td>{u'job_id': u'demo-19d87145-c351-42ea-b766-9fe...</td>\n",
       "      <td>{u'data': {u'state': {u'state': u'open|filtere...</td>\n",
       "      <td>{u'ip': u'131.176.49.145', u'protocol': u'tcp'...</td>\n",
       "    </tr>\n",
       "    <tr>\n",
       "      <th>173</th>\n",
       "      <td>{u'job_id': u'demo-19d87145-c351-42ea-b766-9fe...</td>\n",
       "      <td>{u'data': {u'banner': u'SSH-2.0-Cisco-1.25', u...</td>\n",
       "      <td>{u'ip': u'212.126.222.10', u'port': 22}</td>\n",
       "    </tr>\n",
       "    <tr>\n",
       "      <th>174</th>\n",
       "      <td>{u'job_id': u'demo-19d87145-c351-42ea-b766-9fe...</td>\n",
       "      <td>{u'data': {u'state': {u'state': u'open|filtere...</td>\n",
       "      <td>{u'ip': u'131.176.49.87', u'protocol': u'tcp',...</td>\n",
       "    </tr>\n",
       "    <tr>\n",
       "      <th>175</th>\n",
       "      <td>{u'job_id': u'demo-19d87145-c351-42ea-b766-9fe...</td>\n",
       "      <td>{u'data': {u'state': {u'state': u'open|filtere...</td>\n",
       "      <td>{u'ip': u'131.176.49.2', u'protocol': u'tcp', ...</td>\n",
       "    </tr>\n",
       "    <tr>\n",
       "      <th>176</th>\n",
       "      <td>{u'job_id': u'demo-19d87145-c351-42ea-b766-9fe...</td>\n",
       "      <td>{u'data': {u'state': {u'state': u'open|filtere...</td>\n",
       "      <td>{u'ip': u'131.176.60.191', u'protocol': u'tcp'...</td>\n",
       "    </tr>\n",
       "  </tbody>\n",
       "</table>\n",
       "<p>177 rows × 3 columns</p>\n",
       "</div>"
      ],
      "text/plain": [
       "                                                origin  \\\n",
       "0    {u'job_id': u'demo-19d87145-c351-42ea-b766-9fe...   \n",
       "1    {u'job_id': u'demo-19d87145-c351-42ea-b766-9fe...   \n",
       "2    {u'job_id': u'demo-19d87145-c351-42ea-b766-9fe...   \n",
       "3    {u'job_id': u'demo-19d87145-c351-42ea-b766-9fe...   \n",
       "4    {u'job_id': u'demo-19d87145-c351-42ea-b766-9fe...   \n",
       "5    {u'job_id': u'demo-19d87145-c351-42ea-b766-9fe...   \n",
       "6    {u'job_id': u'demo-19d87145-c351-42ea-b766-9fe...   \n",
       "7    {u'job_id': u'demo-19d87145-c351-42ea-b766-9fe...   \n",
       "8    {u'job_id': u'demo-19d87145-c351-42ea-b766-9fe...   \n",
       "9    {u'job_id': u'demo-19d87145-c351-42ea-b766-9fe...   \n",
       "10   {u'job_id': u'demo-19d87145-c351-42ea-b766-9fe...   \n",
       "11   {u'job_id': u'demo-19d87145-c351-42ea-b766-9fe...   \n",
       "12   {u'job_id': u'demo-19d87145-c351-42ea-b766-9fe...   \n",
       "13   {u'job_id': u'demo-19d87145-c351-42ea-b766-9fe...   \n",
       "14   {u'job_id': u'demo-19d87145-c351-42ea-b766-9fe...   \n",
       "15   {u'job_id': u'demo-19d87145-c351-42ea-b766-9fe...   \n",
       "16   {u'job_id': u'demo-19d87145-c351-42ea-b766-9fe...   \n",
       "17   {u'job_id': u'demo-19d87145-c351-42ea-b766-9fe...   \n",
       "18   {u'job_id': u'demo-19d87145-c351-42ea-b766-9fe...   \n",
       "19   {u'job_id': u'demo-19d87145-c351-42ea-b766-9fe...   \n",
       "20   {u'job_id': u'demo-19d87145-c351-42ea-b766-9fe...   \n",
       "21   {u'job_id': u'demo-19d87145-c351-42ea-b766-9fe...   \n",
       "22   {u'job_id': u'demo-19d87145-c351-42ea-b766-9fe...   \n",
       "23   {u'job_id': u'demo-19d87145-c351-42ea-b766-9fe...   \n",
       "24   {u'job_id': u'demo-19d87145-c351-42ea-b766-9fe...   \n",
       "25   {u'job_id': u'demo-19d87145-c351-42ea-b766-9fe...   \n",
       "26   {u'job_id': u'demo-19d87145-c351-42ea-b766-9fe...   \n",
       "27   {u'job_id': u'demo-19d87145-c351-42ea-b766-9fe...   \n",
       "28   {u'job_id': u'demo-19d87145-c351-42ea-b766-9fe...   \n",
       "29   {u'job_id': u'demo-19d87145-c351-42ea-b766-9fe...   \n",
       "..                                                 ...   \n",
       "147  {u'job_id': u'demo-19d87145-c351-42ea-b766-9fe...   \n",
       "148  {u'job_id': u'demo-19d87145-c351-42ea-b766-9fe...   \n",
       "149  {u'job_id': u'demo-19d87145-c351-42ea-b766-9fe...   \n",
       "150  {u'job_id': u'demo-19d87145-c351-42ea-b766-9fe...   \n",
       "151  {u'job_id': u'demo-19d87145-c351-42ea-b766-9fe...   \n",
       "152  {u'job_id': u'demo-19d87145-c351-42ea-b766-9fe...   \n",
       "153  {u'job_id': u'demo-19d87145-c351-42ea-b766-9fe...   \n",
       "154  {u'job_id': u'demo-19d87145-c351-42ea-b766-9fe...   \n",
       "155  {u'job_id': u'demo-19d87145-c351-42ea-b766-9fe...   \n",
       "156  {u'job_id': u'demo-19d87145-c351-42ea-b766-9fe...   \n",
       "157  {u'job_id': u'demo-19d87145-c351-42ea-b766-9fe...   \n",
       "158  {u'job_id': u'demo-19d87145-c351-42ea-b766-9fe...   \n",
       "159  {u'job_id': u'demo-19d87145-c351-42ea-b766-9fe...   \n",
       "160  {u'job_id': u'demo-19d87145-c351-42ea-b766-9fe...   \n",
       "161  {u'job_id': u'demo-19d87145-c351-42ea-b766-9fe...   \n",
       "162  {u'job_id': u'demo-19d87145-c351-42ea-b766-9fe...   \n",
       "163  {u'job_id': u'demo-19d87145-c351-42ea-b766-9fe...   \n",
       "164  {u'job_id': u'demo-19d87145-c351-42ea-b766-9fe...   \n",
       "165  {u'job_id': u'demo-19d87145-c351-42ea-b766-9fe...   \n",
       "166  {u'job_id': u'demo-19d87145-c351-42ea-b766-9fe...   \n",
       "167  {u'job_id': u'demo-19d87145-c351-42ea-b766-9fe...   \n",
       "168  {u'job_id': u'demo-19d87145-c351-42ea-b766-9fe...   \n",
       "169  {u'job_id': u'demo-19d87145-c351-42ea-b766-9fe...   \n",
       "170  {u'job_id': u'demo-19d87145-c351-42ea-b766-9fe...   \n",
       "171  {u'job_id': u'demo-19d87145-c351-42ea-b766-9fe...   \n",
       "172  {u'job_id': u'demo-19d87145-c351-42ea-b766-9fe...   \n",
       "173  {u'job_id': u'demo-19d87145-c351-42ea-b766-9fe...   \n",
       "174  {u'job_id': u'demo-19d87145-c351-42ea-b766-9fe...   \n",
       "175  {u'job_id': u'demo-19d87145-c351-42ea-b766-9fe...   \n",
       "176  {u'job_id': u'demo-19d87145-c351-42ea-b766-9fe...   \n",
       "\n",
       "                                                result  \\\n",
       "0                             {u'response': u'synack'}   \n",
       "1                             {u'response': u'synack'}   \n",
       "2                             {u'response': u'synack'}   \n",
       "3                             {u'response': u'synack'}   \n",
       "4                             {u'response': u'synack'}   \n",
       "5                             {u'response': u'synack'}   \n",
       "6                             {u'response': u'synack'}   \n",
       "7                             {u'response': u'synack'}   \n",
       "8                             {u'response': u'synack'}   \n",
       "9                             {u'response': u'synack'}   \n",
       "10                            {u'response': u'synack'}   \n",
       "11                            {u'response': u'synack'}   \n",
       "12                            {u'response': u'synack'}   \n",
       "13                            {u'response': u'synack'}   \n",
       "14                            {u'response': u'synack'}   \n",
       "15                            {u'response': u'synack'}   \n",
       "16                            {u'response': u'synack'}   \n",
       "17                            {u'response': u'synack'}   \n",
       "18                            {u'response': u'synack'}   \n",
       "19                            {u'response': u'synack'}   \n",
       "20                            {u'response': u'synack'}   \n",
       "21                            {u'response': u'synack'}   \n",
       "22                            {u'response': u'synack'}   \n",
       "23                            {u'response': u'synack'}   \n",
       "24                            {u'response': u'synack'}   \n",
       "25                            {u'response': u'synack'}   \n",
       "26                            {u'response': u'synack'}   \n",
       "27                            {u'response': u'synack'}   \n",
       "28                            {u'response': u'synack'}   \n",
       "29                            {u'response': u'synack'}   \n",
       "..                                                 ...   \n",
       "147  {u'data': {u'state': {u'state': u'open'}, u'se...   \n",
       "148  {u'data': {u'state': {u'state': u'open'}, u'se...   \n",
       "149  {u'data': {u'state': {u'state': u'open'}, u'se...   \n",
       "150  {u'data': {u'state': {u'state': u'open'}, u'se...   \n",
       "151  {u'data': {u'state': {u'state': u'open'}, u'se...   \n",
       "152  {u'data': {u'state': {u'state': u'open'}, u'se...   \n",
       "153  {u'data': {u'state': {u'state': u'open'}, u'se...   \n",
       "154  {u'data': {u'state': {u'state': u'open'}, u'se...   \n",
       "155  {u'data': {u'state': {u'state': u'open'}, u'se...   \n",
       "156  {u'data': {u'state': {u'state': u'open'}, u'se...   \n",
       "157  {u'data': {u'state': {u'state': u'open'}, u'se...   \n",
       "158  {u'data': {u'state': {u'state': u'open'}, u'se...   \n",
       "159  {u'data': {u'state': {u'state': u'open'}, u'se...   \n",
       "160  {u'data': {u'state': {u'state': u'open'}, u'se...   \n",
       "161  {u'data': {u'state': {u'state': u'open'}, u'se...   \n",
       "162  {u'data': {u'state': {u'state': u'open|filtere...   \n",
       "163  {u'data': {u'state': {u'state': u'open'}, u'se...   \n",
       "164  {u'data': {u'state': {u'state': u'open'}, u'se...   \n",
       "165  {u'data': {u'state': {u'state': u'open'}, u'se...   \n",
       "166  {u'data': {u'state': {u'state': u'open'}, u'se...   \n",
       "167  {u'data': {u'state': {u'state': u'open'}, u'se...   \n",
       "168  {u'data': {u'state': {u'state': u'open'}, u'se...   \n",
       "169  {u'data': {u'state': {u'state': u'open'}, u'se...   \n",
       "170  {u'data': {u'state': {u'state': u'open'}, u'se...   \n",
       "171  {u'data': {u'banner': u'SSH-2.0-CrushFTPSSHD',...   \n",
       "172  {u'data': {u'state': {u'state': u'open|filtere...   \n",
       "173  {u'data': {u'banner': u'SSH-2.0-Cisco-1.25', u...   \n",
       "174  {u'data': {u'state': {u'state': u'open|filtere...   \n",
       "175  {u'data': {u'state': {u'state': u'open|filtere...   \n",
       "176  {u'data': {u'state': {u'state': u'open|filtere...   \n",
       "\n",
       "                                                target  \n",
       "0    {u'ip': u'131.176.108.11', u'protocol': u'tcp'...  \n",
       "1    {u'ip': u'131.176.149.82', u'protocol': u'tcp'...  \n",
       "2    {u'ip': u'131.176.60.114', u'protocol': u'tcp'...  \n",
       "3    {u'ip': u'131.176.60.127', u'protocol': u'tcp'...  \n",
       "4    {u'ip': u'212.126.210.36', u'protocol': u'tcp'...  \n",
       "5    {u'ip': u'213.218.23.16', u'protocol': u'tcp',...  \n",
       "6    {u'ip': u'131.176.230.198', u'protocol': u'tcp...  \n",
       "7    {u'ip': u'131.176.60.196', u'protocol': u'tcp'...  \n",
       "8    {u'ip': u'213.218.5.34', u'protocol': u'tcp', ...  \n",
       "9    {u'ip': u'195.2.174.25', u'protocol': u'tcp', ...  \n",
       "10   {u'ip': u'131.176.230.222', u'protocol': u'tcp...  \n",
       "11   {u'ip': u'212.126.195.48', u'protocol': u'tcp'...  \n",
       "12   {u'ip': u'131.176.49.145', u'protocol': u'tcp'...  \n",
       "13   {u'ip': u'212.126.222.10', u'protocol': u'tcp'...  \n",
       "14   {u'ip': u'213.218.23.10', u'protocol': u'tcp',...  \n",
       "15   {u'ip': u'213.218.21.107', u'protocol': u'tcp'...  \n",
       "16   {u'ip': u'213.218.0.170', u'protocol': u'tcp',...  \n",
       "17   {u'ip': u'131.176.230.227', u'protocol': u'tcp...  \n",
       "18   {u'ip': u'131.176.203.183', u'protocol': u'tcp...  \n",
       "19   {u'ip': u'131.176.60.195', u'protocol': u'tcp'...  \n",
       "20   {u'ip': u'131.176.230.224', u'protocol': u'tcp...  \n",
       "21   {u'ip': u'212.126.222.146', u'protocol': u'tcp...  \n",
       "22   {u'ip': u'131.176.149.81', u'protocol': u'tcp'...  \n",
       "23   {u'ip': u'131.176.145.137', u'protocol': u'tcp...  \n",
       "24   {u'ip': u'131.176.230.226', u'protocol': u'tcp...  \n",
       "25   {u'ip': u'212.126.222.2', u'protocol': u'tcp',...  \n",
       "26   {u'ip': u'213.218.26.246', u'protocol': u'tcp'...  \n",
       "27   {u'ip': u'131.176.203.182', u'protocol': u'tcp...  \n",
       "28   {u'ip': u'131.176.29.94', u'protocol': u'tcp',...  \n",
       "29   {u'ip': u'131.176.161.12', u'protocol': u'tcp'...  \n",
       "..                                                 ...  \n",
       "147  {u'ip': u'213.218.0.170', u'protocol': u'tcp',...  \n",
       "148  {u'ip': u'213.218.21.108', u'protocol': u'tcp'...  \n",
       "149  {u'ip': u'131.176.230.222', u'protocol': u'tcp...  \n",
       "150  {u'ip': u'212.126.220.243', u'protocol': u'tcp...  \n",
       "151  {u'ip': u'131.176.230.221', u'protocol': u'tcp...  \n",
       "152  {u'ip': u'131.176.49.211', u'protocol': u'tcp'...  \n",
       "153  {u'ip': u'213.218.23.16', u'protocol': u'tcp',...  \n",
       "154  {u'ip': u'131.176.60.195', u'protocol': u'tcp'...  \n",
       "155  {u'ip': u'212.126.195.48', u'protocol': u'tcp'...  \n",
       "156  {u'ip': u'213.218.23.23', u'protocol': u'tcp',...  \n",
       "157  {u'ip': u'131.176.60.114', u'protocol': u'tcp'...  \n",
       "158  {u'ip': u'213.218.23.195', u'protocol': u'tcp'...  \n",
       "159  {u'ip': u'131.176.161.12', u'protocol': u'tcp'...  \n",
       "160  {u'ip': u'213.218.23.18', u'protocol': u'tcp',...  \n",
       "161  {u'ip': u'131.176.203.183', u'protocol': u'tcp...  \n",
       "162  {u'ip': u'213.218.26.246', u'protocol': u'tcp'...  \n",
       "163  {u'ip': u'131.176.60.196', u'protocol': u'tcp'...  \n",
       "164  {u'ip': u'212.126.222.2', u'protocol': u'tcp',...  \n",
       "165  {u'ip': u'131.176.230.229', u'protocol': u'tcp...  \n",
       "166  {u'ip': u'131.176.161.11', u'protocol': u'tcp'...  \n",
       "167  {u'ip': u'131.176.49.7', u'protocol': u'tcp', ...  \n",
       "168  {u'ip': u'131.176.49.163', u'protocol': u'tcp'...  \n",
       "169  {u'ip': u'213.218.5.34', u'protocol': u'tcp', ...  \n",
       "170  {u'ip': u'195.2.172.45', u'protocol': u'tcp', ...  \n",
       "171           {u'ip': u'131.176.230.198', u'port': 22}  \n",
       "172  {u'ip': u'131.176.49.145', u'protocol': u'tcp'...  \n",
       "173            {u'ip': u'212.126.222.10', u'port': 22}  \n",
       "174  {u'ip': u'131.176.49.87', u'protocol': u'tcp',...  \n",
       "175  {u'ip': u'131.176.49.2', u'protocol': u'tcp', ...  \n",
       "176  {u'ip': u'131.176.60.191', u'protocol': u'tcp'...  \n",
       "\n",
       "[177 rows x 3 columns]"
      ]
     },
     "execution_count": 7,
     "metadata": {},
     "output_type": "execute_result"
    }
   ],
   "source": [
    "df"
   ]
  },
  {
   "cell_type": "markdown",
   "metadata": {},
   "source": [
    "We can access each entry on a column to explore in detail:\n",
    "\n",
    "df[column name][row number]"
   ]
  },
  {
   "cell_type": "code",
   "execution_count": 8,
   "metadata": {
    "collapsed": false
   },
   "outputs": [
    {
     "data": {
      "text/plain": [
       "{u'client_id': u'demo',\n",
       " u'country': u'us',\n",
       " u'job_id': u'demo-19d87145-c351-42ea-b766-9febd955abde',\n",
       " u'module': u'portscan',\n",
       " u'ts': 1477587129563L,\n",
       " u'type': u'port'}"
      ]
     },
     "execution_count": 8,
     "metadata": {},
     "output_type": "execute_result"
    }
   ],
   "source": [
    "df['origin'][0]"
   ]
  },
  {
   "cell_type": "markdown",
   "metadata": {},
   "source": [
    "We can also access a particular field of the nested object:\n",
    "\n",
    "df[column name][row number][field name]"
   ]
  },
  {
   "cell_type": "code",
   "execution_count": 9,
   "metadata": {
    "collapsed": false
   },
   "outputs": [
    {
     "data": {
      "text/plain": [
       "u'demo'"
      ]
     },
     "execution_count": 9,
     "metadata": {},
     "output_type": "execute_result"
    }
   ],
   "source": [
    "df['origin'][0]['client_id']"
   ]
  },
  {
   "cell_type": "code",
   "execution_count": 10,
   "metadata": {
    "collapsed": false
   },
   "outputs": [
    {
     "data": {
      "text/plain": [
       "u'131.176.60.127'"
      ]
     },
     "execution_count": 10,
     "metadata": {},
     "output_type": "execute_result"
    }
   ],
   "source": [
    "df['target'][3]['ip']"
   ]
  },
  {
   "cell_type": "markdown",
   "metadata": {},
   "source": [
    "For analysing SSH data, the columns that we are most interested in are \"target\", since it contains IP Address and Port information, and \"result\", since it contains the effective data that was extracted by the SSH module.\n",
    "By creating a new dataframe with only the data that we are interested in, we diminish the quantity of data that we have to manipulate, which accelerates the process and eases reading and interpretation."
   ]
  },
  {
   "cell_type": "code",
   "execution_count": 11,
   "metadata": {
    "collapsed": true
   },
   "outputs": [],
   "source": [
    "df2 = df[['target', 'result']]"
   ]
  },
  {
   "cell_type": "markdown",
   "metadata": {},
   "source": [
    "To show only the first 5 rows of the dataframe: df[:5]\n",
    "\n",
    "To show only the last 5 rows of the dataframe: df[-5:]"
   ]
  },
  {
   "cell_type": "code",
   "execution_count": 12,
   "metadata": {
    "collapsed": false
   },
   "outputs": [
    {
     "data": {
      "text/html": [
       "<div>\n",
       "<table border=\"1\" class=\"dataframe\">\n",
       "  <thead>\n",
       "    <tr style=\"text-align: right;\">\n",
       "      <th></th>\n",
       "      <th>target</th>\n",
       "      <th>result</th>\n",
       "    </tr>\n",
       "  </thead>\n",
       "  <tbody>\n",
       "    <tr>\n",
       "      <th>0</th>\n",
       "      <td>{u'ip': u'131.176.108.11', u'protocol': u'tcp'...</td>\n",
       "      <td>{u'response': u'synack'}</td>\n",
       "    </tr>\n",
       "    <tr>\n",
       "      <th>1</th>\n",
       "      <td>{u'ip': u'131.176.149.82', u'protocol': u'tcp'...</td>\n",
       "      <td>{u'response': u'synack'}</td>\n",
       "    </tr>\n",
       "    <tr>\n",
       "      <th>2</th>\n",
       "      <td>{u'ip': u'131.176.60.114', u'protocol': u'tcp'...</td>\n",
       "      <td>{u'response': u'synack'}</td>\n",
       "    </tr>\n",
       "    <tr>\n",
       "      <th>3</th>\n",
       "      <td>{u'ip': u'131.176.60.127', u'protocol': u'tcp'...</td>\n",
       "      <td>{u'response': u'synack'}</td>\n",
       "    </tr>\n",
       "    <tr>\n",
       "      <th>4</th>\n",
       "      <td>{u'ip': u'212.126.210.36', u'protocol': u'tcp'...</td>\n",
       "      <td>{u'response': u'synack'}</td>\n",
       "    </tr>\n",
       "  </tbody>\n",
       "</table>\n",
       "</div>"
      ],
      "text/plain": [
       "                                              target                    result\n",
       "0  {u'ip': u'131.176.108.11', u'protocol': u'tcp'...  {u'response': u'synack'}\n",
       "1  {u'ip': u'131.176.149.82', u'protocol': u'tcp'...  {u'response': u'synack'}\n",
       "2  {u'ip': u'131.176.60.114', u'protocol': u'tcp'...  {u'response': u'synack'}\n",
       "3  {u'ip': u'131.176.60.127', u'protocol': u'tcp'...  {u'response': u'synack'}\n",
       "4  {u'ip': u'212.126.210.36', u'protocol': u'tcp'...  {u'response': u'synack'}"
      ]
     },
     "execution_count": 12,
     "metadata": {},
     "output_type": "execute_result"
    }
   ],
   "source": [
    "df2[:5]"
   ]
  },
  {
   "cell_type": "markdown",
   "metadata": {},
   "source": [
    "All the rows that do not contain any values - NaN - can and should be discarded\n",
    "In order to do that, we can use the df.dropna() method:\n",
    "- DataFrame.dropna(axis=0, how='any', thresh=None, subset=None, inplace=False)\n",
    "- Return object with labels on given axis omitted where alternately any or all of the data are missing"
   ]
  },
  {
   "cell_type": "code",
   "execution_count": 13,
   "metadata": {
    "collapsed": true
   },
   "outputs": [],
   "source": [
    "df2 = df2.dropna()"
   ]
  },
  {
   "cell_type": "code",
   "execution_count": 14,
   "metadata": {
    "collapsed": false
   },
   "outputs": [
    {
     "data": {
      "text/html": [
       "<div>\n",
       "<table border=\"1\" class=\"dataframe\">\n",
       "  <thead>\n",
       "    <tr style=\"text-align: right;\">\n",
       "      <th></th>\n",
       "      <th>target</th>\n",
       "      <th>result</th>\n",
       "    </tr>\n",
       "  </thead>\n",
       "  <tbody>\n",
       "    <tr>\n",
       "      <th>0</th>\n",
       "      <td>{u'ip': u'131.176.108.11', u'protocol': u'tcp'...</td>\n",
       "      <td>{u'response': u'synack'}</td>\n",
       "    </tr>\n",
       "    <tr>\n",
       "      <th>1</th>\n",
       "      <td>{u'ip': u'131.176.149.82', u'protocol': u'tcp'...</td>\n",
       "      <td>{u'response': u'synack'}</td>\n",
       "    </tr>\n",
       "    <tr>\n",
       "      <th>2</th>\n",
       "      <td>{u'ip': u'131.176.60.114', u'protocol': u'tcp'...</td>\n",
       "      <td>{u'response': u'synack'}</td>\n",
       "    </tr>\n",
       "    <tr>\n",
       "      <th>3</th>\n",
       "      <td>{u'ip': u'131.176.60.127', u'protocol': u'tcp'...</td>\n",
       "      <td>{u'response': u'synack'}</td>\n",
       "    </tr>\n",
       "    <tr>\n",
       "      <th>4</th>\n",
       "      <td>{u'ip': u'212.126.210.36', u'protocol': u'tcp'...</td>\n",
       "      <td>{u'response': u'synack'}</td>\n",
       "    </tr>\n",
       "  </tbody>\n",
       "</table>\n",
       "</div>"
      ],
      "text/plain": [
       "                                              target                    result\n",
       "0  {u'ip': u'131.176.108.11', u'protocol': u'tcp'...  {u'response': u'synack'}\n",
       "1  {u'ip': u'131.176.149.82', u'protocol': u'tcp'...  {u'response': u'synack'}\n",
       "2  {u'ip': u'131.176.60.114', u'protocol': u'tcp'...  {u'response': u'synack'}\n",
       "3  {u'ip': u'131.176.60.127', u'protocol': u'tcp'...  {u'response': u'synack'}\n",
       "4  {u'ip': u'212.126.210.36', u'protocol': u'tcp'...  {u'response': u'synack'}"
      ]
     },
     "execution_count": 14,
     "metadata": {},
     "output_type": "execute_result"
    }
   ],
   "source": [
    "df2[:5]"
   ]
  },
  {
   "cell_type": "markdown",
   "metadata": {},
   "source": [
    "On the \"result\" column, we are only interested on the values which actually have information - by looking at the raw data we know that only the rows with \"data\" have information.\n",
    "\n",
    "To apply a function to all the rows of a specific column, you can use the .map() method."
   ]
  },
  {
   "cell_type": "code",
   "execution_count": 15,
   "metadata": {
    "collapsed": false
   },
   "outputs": [],
   "source": [
    "#Maintain only \"result\" rows with the \"data\" string in it\n",
    "df2['result'] =  df2['result'].map(lambda x: x if 'data' in x else None )"
   ]
  },
  {
   "cell_type": "code",
   "execution_count": 16,
   "metadata": {
    "collapsed": false
   },
   "outputs": [
    {
     "data": {
      "text/html": [
       "<div>\n",
       "<table border=\"1\" class=\"dataframe\">\n",
       "  <thead>\n",
       "    <tr style=\"text-align: right;\">\n",
       "      <th></th>\n",
       "      <th>target</th>\n",
       "      <th>result</th>\n",
       "    </tr>\n",
       "  </thead>\n",
       "  <tbody>\n",
       "    <tr>\n",
       "      <th>0</th>\n",
       "      <td>{u'ip': u'131.176.108.11', u'protocol': u'tcp'...</td>\n",
       "      <td>None</td>\n",
       "    </tr>\n",
       "    <tr>\n",
       "      <th>1</th>\n",
       "      <td>{u'ip': u'131.176.149.82', u'protocol': u'tcp'...</td>\n",
       "      <td>None</td>\n",
       "    </tr>\n",
       "    <tr>\n",
       "      <th>2</th>\n",
       "      <td>{u'ip': u'131.176.60.114', u'protocol': u'tcp'...</td>\n",
       "      <td>None</td>\n",
       "    </tr>\n",
       "    <tr>\n",
       "      <th>3</th>\n",
       "      <td>{u'ip': u'131.176.60.127', u'protocol': u'tcp'...</td>\n",
       "      <td>None</td>\n",
       "    </tr>\n",
       "    <tr>\n",
       "      <th>4</th>\n",
       "      <td>{u'ip': u'212.126.210.36', u'protocol': u'tcp'...</td>\n",
       "      <td>None</td>\n",
       "    </tr>\n",
       "  </tbody>\n",
       "</table>\n",
       "</div>"
      ],
      "text/plain": [
       "                                              target result\n",
       "0  {u'ip': u'131.176.108.11', u'protocol': u'tcp'...   None\n",
       "1  {u'ip': u'131.176.149.82', u'protocol': u'tcp'...   None\n",
       "2  {u'ip': u'131.176.60.114', u'protocol': u'tcp'...   None\n",
       "3  {u'ip': u'131.176.60.127', u'protocol': u'tcp'...   None\n",
       "4  {u'ip': u'212.126.210.36', u'protocol': u'tcp'...   None"
      ]
     },
     "execution_count": 16,
     "metadata": {},
     "output_type": "execute_result"
    }
   ],
   "source": [
    "df2[:5]"
   ]
  },
  {
   "cell_type": "code",
   "execution_count": 17,
   "metadata": {
    "collapsed": true
   },
   "outputs": [],
   "source": [
    "#Remove null results\n",
    "df3 = df2.dropna()"
   ]
  },
  {
   "cell_type": "code",
   "execution_count": 18,
   "metadata": {
    "collapsed": false
   },
   "outputs": [
    {
     "data": {
      "text/html": [
       "<div>\n",
       "<table border=\"1\" class=\"dataframe\">\n",
       "  <thead>\n",
       "    <tr style=\"text-align: right;\">\n",
       "      <th></th>\n",
       "      <th>target</th>\n",
       "      <th>result</th>\n",
       "    </tr>\n",
       "  </thead>\n",
       "  <tbody>\n",
       "    <tr>\n",
       "      <th>34</th>\n",
       "      <td>{u'ip': u'131.176.230.221', u'port': 22}</td>\n",
       "      <td>{u'data': {u'banner': u'SSH-2.0-OpenSSH_6.7p1'...</td>\n",
       "    </tr>\n",
       "    <tr>\n",
       "      <th>35</th>\n",
       "      <td>{u'ip': u'131.176.230.224', u'port': 22}</td>\n",
       "      <td>{u'data': {u'banner': u'SSH-2.0-OpenSSH_6.7p1'...</td>\n",
       "    </tr>\n",
       "    <tr>\n",
       "      <th>36</th>\n",
       "      <td>{u'ip': u'131.176.230.226', u'port': 22}</td>\n",
       "      <td>{u'data': {u'banner': u'SSH-2.0-OpenSSH_6.7p1'...</td>\n",
       "    </tr>\n",
       "    <tr>\n",
       "      <th>37</th>\n",
       "      <td>{u'ip': u'213.218.0.170', u'port': 22}</td>\n",
       "      <td>{u'data': {u'banner': u'SSH-2.0-OpenSSH_5.3', ...</td>\n",
       "    </tr>\n",
       "    <tr>\n",
       "      <th>38</th>\n",
       "      <td>{u'ip': u'131.176.145.137', u'port': 22}</td>\n",
       "      <td>{u'data': {u'banner': u'SSH-2.0-OpenSSH_4.2-ch...</td>\n",
       "    </tr>\n",
       "  </tbody>\n",
       "</table>\n",
       "</div>"
      ],
      "text/plain": [
       "                                      target  \\\n",
       "34  {u'ip': u'131.176.230.221', u'port': 22}   \n",
       "35  {u'ip': u'131.176.230.224', u'port': 22}   \n",
       "36  {u'ip': u'131.176.230.226', u'port': 22}   \n",
       "37    {u'ip': u'213.218.0.170', u'port': 22}   \n",
       "38  {u'ip': u'131.176.145.137', u'port': 22}   \n",
       "\n",
       "                                               result  \n",
       "34  {u'data': {u'banner': u'SSH-2.0-OpenSSH_6.7p1'...  \n",
       "35  {u'data': {u'banner': u'SSH-2.0-OpenSSH_6.7p1'...  \n",
       "36  {u'data': {u'banner': u'SSH-2.0-OpenSSH_6.7p1'...  \n",
       "37  {u'data': {u'banner': u'SSH-2.0-OpenSSH_5.3', ...  \n",
       "38  {u'data': {u'banner': u'SSH-2.0-OpenSSH_4.2-ch...  "
      ]
     },
     "execution_count": 18,
     "metadata": {},
     "output_type": "execute_result"
    }
   ],
   "source": [
    "df3[:5]"
   ]
  },
  {
   "cell_type": "markdown",
   "metadata": {},
   "source": [
    "We can compute the quantity of entries with no data, by computing the size of the dataframe before and after dropping the null values.\n",
    "\n",
    "To get the size of a dataframe you can use the len() method."
   ]
  },
  {
   "cell_type": "code",
   "execution_count": 19,
   "metadata": {
    "collapsed": false
   },
   "outputs": [
    {
     "name": "stdout",
     "output_type": "stream",
     "text": [
      "Total results: 177\n"
     ]
    }
   ],
   "source": [
    "print 'Total results: %s' % len(df2)"
   ]
  },
  {
   "cell_type": "code",
   "execution_count": 20,
   "metadata": {
    "collapsed": false
   },
   "outputs": [
    {
     "name": "stdout",
     "output_type": "stream",
     "text": [
      "Total results with data: 101\n"
     ]
    }
   ],
   "source": [
    "print 'Total results with data: %s' % len(df3)"
   ]
  },
  {
   "cell_type": "markdown",
   "metadata": {},
   "source": [
    "In order to facilitate the analysis, we can take the json fields and put then into columns.\n",
    "\n",
    "First we check which fields are exist on the json:"
   ]
  },
  {
   "cell_type": "code",
   "execution_count": 21,
   "metadata": {
    "collapsed": false
   },
   "outputs": [
    {
     "data": {
      "text/plain": [
       "34    [ip, port]\n",
       "35    [ip, port]\n",
       "36    [ip, port]\n",
       "Name: target, dtype: object"
      ]
     },
     "execution_count": 21,
     "metadata": {},
     "output_type": "execute_result"
    }
   ],
   "source": [
    "df3['target'].map(lambda x: x.keys())[:3]"
   ]
  },
  {
   "cell_type": "code",
   "execution_count": 22,
   "metadata": {
    "collapsed": false
   },
   "outputs": [
    {
     "data": {
      "text/plain": [
       "34    [data]\n",
       "35    [data]\n",
       "36    [data]\n",
       "Name: result, dtype: object"
      ]
     },
     "execution_count": 22,
     "metadata": {},
     "output_type": "execute_result"
    }
   ],
   "source": [
    "df3['result'].map(lambda x: x.keys())[:3]"
   ]
  },
  {
   "cell_type": "markdown",
   "metadata": {},
   "source": [
    "The \"target\" column can then be divided into \"ip\" and \"port\"."
   ]
  },
  {
   "cell_type": "code",
   "execution_count": 23,
   "metadata": {
    "collapsed": false
   },
   "outputs": [],
   "source": [
    "df3['ip'] = df3['target'].map(lambda x: x['ip'])"
   ]
  },
  {
   "cell_type": "code",
   "execution_count": 24,
   "metadata": {
    "collapsed": false
   },
   "outputs": [
    {
     "data": {
      "text/html": [
       "<div>\n",
       "<table border=\"1\" class=\"dataframe\">\n",
       "  <thead>\n",
       "    <tr style=\"text-align: right;\">\n",
       "      <th></th>\n",
       "      <th>target</th>\n",
       "      <th>result</th>\n",
       "      <th>ip</th>\n",
       "    </tr>\n",
       "  </thead>\n",
       "  <tbody>\n",
       "    <tr>\n",
       "      <th>34</th>\n",
       "      <td>{u'ip': u'131.176.230.221', u'port': 22}</td>\n",
       "      <td>{u'data': {u'banner': u'SSH-2.0-OpenSSH_6.7p1'...</td>\n",
       "      <td>131.176.230.221</td>\n",
       "    </tr>\n",
       "    <tr>\n",
       "      <th>35</th>\n",
       "      <td>{u'ip': u'131.176.230.224', u'port': 22}</td>\n",
       "      <td>{u'data': {u'banner': u'SSH-2.0-OpenSSH_6.7p1'...</td>\n",
       "      <td>131.176.230.224</td>\n",
       "    </tr>\n",
       "    <tr>\n",
       "      <th>36</th>\n",
       "      <td>{u'ip': u'131.176.230.226', u'port': 22}</td>\n",
       "      <td>{u'data': {u'banner': u'SSH-2.0-OpenSSH_6.7p1'...</td>\n",
       "      <td>131.176.230.226</td>\n",
       "    </tr>\n",
       "    <tr>\n",
       "      <th>37</th>\n",
       "      <td>{u'ip': u'213.218.0.170', u'port': 22}</td>\n",
       "      <td>{u'data': {u'banner': u'SSH-2.0-OpenSSH_5.3', ...</td>\n",
       "      <td>213.218.0.170</td>\n",
       "    </tr>\n",
       "    <tr>\n",
       "      <th>38</th>\n",
       "      <td>{u'ip': u'131.176.145.137', u'port': 22}</td>\n",
       "      <td>{u'data': {u'banner': u'SSH-2.0-OpenSSH_4.2-ch...</td>\n",
       "      <td>131.176.145.137</td>\n",
       "    </tr>\n",
       "    <tr>\n",
       "      <th>39</th>\n",
       "      <td>{u'ip': u'212.126.215.124', u'port': 22}</td>\n",
       "      <td>{u'data': {u'banner': u'SSH-2.0-OpenSSH_6.6.1p...</td>\n",
       "      <td>212.126.215.124</td>\n",
       "    </tr>\n",
       "    <tr>\n",
       "      <th>40</th>\n",
       "      <td>{u'ip': u'213.218.5.99', u'port': 22}</td>\n",
       "      <td>{u'data': {u'banner': u'SSH-2.0-OpenSSH_7.2', ...</td>\n",
       "      <td>213.218.5.99</td>\n",
       "    </tr>\n",
       "    <tr>\n",
       "      <th>41</th>\n",
       "      <td>{u'ip': u'213.218.23.16', u'port': 22}</td>\n",
       "      <td>{u'data': {u'banner': u'SSH-2.0-OpenSSH_5.2p1'...</td>\n",
       "      <td>213.218.23.16</td>\n",
       "    </tr>\n",
       "    <tr>\n",
       "      <th>42</th>\n",
       "      <td>{u'ip': u'212.126.220.243', u'port': 22}</td>\n",
       "      <td>{u'data': {u'banner': u'SSH-2.0-OpenSSH_5.3', ...</td>\n",
       "      <td>212.126.220.243</td>\n",
       "    </tr>\n",
       "    <tr>\n",
       "      <th>43</th>\n",
       "      <td>{u'ip': u'213.218.23.18', u'port': 22}</td>\n",
       "      <td>{u'data': {u'banner': u'SSH-2.0-OpenSSH_6.6p1'...</td>\n",
       "      <td>213.218.23.18</td>\n",
       "    </tr>\n",
       "  </tbody>\n",
       "</table>\n",
       "</div>"
      ],
      "text/plain": [
       "                                      target  \\\n",
       "34  {u'ip': u'131.176.230.221', u'port': 22}   \n",
       "35  {u'ip': u'131.176.230.224', u'port': 22}   \n",
       "36  {u'ip': u'131.176.230.226', u'port': 22}   \n",
       "37    {u'ip': u'213.218.0.170', u'port': 22}   \n",
       "38  {u'ip': u'131.176.145.137', u'port': 22}   \n",
       "39  {u'ip': u'212.126.215.124', u'port': 22}   \n",
       "40     {u'ip': u'213.218.5.99', u'port': 22}   \n",
       "41    {u'ip': u'213.218.23.16', u'port': 22}   \n",
       "42  {u'ip': u'212.126.220.243', u'port': 22}   \n",
       "43    {u'ip': u'213.218.23.18', u'port': 22}   \n",
       "\n",
       "                                               result               ip  \n",
       "34  {u'data': {u'banner': u'SSH-2.0-OpenSSH_6.7p1'...  131.176.230.221  \n",
       "35  {u'data': {u'banner': u'SSH-2.0-OpenSSH_6.7p1'...  131.176.230.224  \n",
       "36  {u'data': {u'banner': u'SSH-2.0-OpenSSH_6.7p1'...  131.176.230.226  \n",
       "37  {u'data': {u'banner': u'SSH-2.0-OpenSSH_5.3', ...    213.218.0.170  \n",
       "38  {u'data': {u'banner': u'SSH-2.0-OpenSSH_4.2-ch...  131.176.145.137  \n",
       "39  {u'data': {u'banner': u'SSH-2.0-OpenSSH_6.6.1p...  212.126.215.124  \n",
       "40  {u'data': {u'banner': u'SSH-2.0-OpenSSH_7.2', ...     213.218.5.99  \n",
       "41  {u'data': {u'banner': u'SSH-2.0-OpenSSH_5.2p1'...    213.218.23.16  \n",
       "42  {u'data': {u'banner': u'SSH-2.0-OpenSSH_5.3', ...  212.126.220.243  \n",
       "43  {u'data': {u'banner': u'SSH-2.0-OpenSSH_6.6p1'...    213.218.23.18  "
      ]
     },
     "execution_count": 24,
     "metadata": {},
     "output_type": "execute_result"
    }
   ],
   "source": [
    "df3[:10]"
   ]
  },
  {
   "cell_type": "markdown",
   "metadata": {},
   "source": [
    "Inside the \"data\" field, we know there are more fields, which we want to explore."
   ]
  },
  {
   "cell_type": "code",
   "execution_count": 25,
   "metadata": {
    "collapsed": false
   },
   "outputs": [
    {
     "data": {
      "text/plain": [
       "34    [banner, cyphers, algorithms]\n",
       "35    [banner, cyphers, algorithms]\n",
       "36    [banner, cyphers, algorithms]\n",
       "37    [banner, cyphers, algorithms]\n",
       "38    [banner, cyphers, algorithms]\n",
       "39    [banner, cyphers, algorithms]\n",
       "40    [banner, cyphers, algorithms]\n",
       "41    [banner, cyphers, algorithms]\n",
       "42    [banner, cyphers, algorithms]\n",
       "43    [banner, cyphers, algorithms]\n",
       "44                 [state, service]\n",
       "45    [banner, cyphers, algorithms]\n",
       "46    [banner, cyphers, algorithms]\n",
       "47    [banner, cyphers, algorithms]\n",
       "48                 [state, service]\n",
       "49                 [state, service]\n",
       "50                 [state, service]\n",
       "51                 [state, service]\n",
       "52                 [state, service]\n",
       "53                 [state, service]\n",
       "Name: result, dtype: object"
      ]
     },
     "execution_count": 25,
     "metadata": {},
     "output_type": "execute_result"
    }
   ],
   "source": [
    "df3['result'].map(lambda x: x['data'].keys())[:20]"
   ]
  },
  {
   "cell_type": "markdown",
   "metadata": {},
   "source": [
    "The \"data\" fields might not always have the same fields inside, hence, you need to ensure that the field you want to explore actually exists, before trying to access it."
   ]
  },
  {
   "cell_type": "code",
   "execution_count": 26,
   "metadata": {
    "collapsed": false
   },
   "outputs": [],
   "source": [
    "df3['banner'] = df3['result'].map(lambda x: x['data']['banner'] if 'banner' in x['data'] else None)"
   ]
  },
  {
   "cell_type": "code",
   "execution_count": 27,
   "metadata": {
    "collapsed": false
   },
   "outputs": [],
   "source": [
    "df3['cyphers'] = df3['result'].map(lambda x: x['data']['cyphers'] if 'cyphers' in x['data'] else None)"
   ]
  },
  {
   "cell_type": "code",
   "execution_count": 28,
   "metadata": {
    "collapsed": false
   },
   "outputs": [],
   "source": [
    "df3['algorithms'] = df3['result'].map(lambda x: x['data']['algorithms'] if 'algorithms' in x['data'] else None)"
   ]
  },
  {
   "cell_type": "code",
   "execution_count": 29,
   "metadata": {
    "collapsed": false
   },
   "outputs": [
    {
     "data": {
      "text/html": [
       "<div>\n",
       "<table border=\"1\" class=\"dataframe\">\n",
       "  <thead>\n",
       "    <tr style=\"text-align: right;\">\n",
       "      <th></th>\n",
       "      <th>target</th>\n",
       "      <th>result</th>\n",
       "      <th>ip</th>\n",
       "      <th>banner</th>\n",
       "      <th>cyphers</th>\n",
       "      <th>algorithms</th>\n",
       "    </tr>\n",
       "  </thead>\n",
       "  <tbody>\n",
       "    <tr>\n",
       "      <th>34</th>\n",
       "      <td>{u'ip': u'131.176.230.221', u'port': 22}</td>\n",
       "      <td>{u'data': {u'banner': u'SSH-2.0-OpenSSH_6.7p1'...</td>\n",
       "      <td>131.176.230.221</td>\n",
       "      <td>SSH-2.0-OpenSSH_6.7p1</td>\n",
       "      <td>[]</td>\n",
       "      <td>{u'server_host_key': [u'ssh-rsa', u'ssh-dss', ...</td>\n",
       "    </tr>\n",
       "    <tr>\n",
       "      <th>35</th>\n",
       "      <td>{u'ip': u'131.176.230.224', u'port': 22}</td>\n",
       "      <td>{u'data': {u'banner': u'SSH-2.0-OpenSSH_6.7p1'...</td>\n",
       "      <td>131.176.230.224</td>\n",
       "      <td>SSH-2.0-OpenSSH_6.7p1</td>\n",
       "      <td>[]</td>\n",
       "      <td>{u'server_host_key': [u'ssh-rsa', u'ssh-dss', ...</td>\n",
       "    </tr>\n",
       "    <tr>\n",
       "      <th>36</th>\n",
       "      <td>{u'ip': u'131.176.230.226', u'port': 22}</td>\n",
       "      <td>{u'data': {u'banner': u'SSH-2.0-OpenSSH_6.7p1'...</td>\n",
       "      <td>131.176.230.226</td>\n",
       "      <td>SSH-2.0-OpenSSH_6.7p1</td>\n",
       "      <td>[]</td>\n",
       "      <td>{u'server_host_key': [u'ssh-rsa', u'ssh-dss', ...</td>\n",
       "    </tr>\n",
       "    <tr>\n",
       "      <th>37</th>\n",
       "      <td>{u'ip': u'213.218.0.170', u'port': 22}</td>\n",
       "      <td>{u'data': {u'banner': u'SSH-2.0-OpenSSH_5.3', ...</td>\n",
       "      <td>213.218.0.170</td>\n",
       "      <td>SSH-2.0-OpenSSH_5.3</td>\n",
       "      <td>[]</td>\n",
       "      <td>{u'server_host_key': [u'ssh-rsa', u'ssh-dss'],...</td>\n",
       "    </tr>\n",
       "    <tr>\n",
       "      <th>38</th>\n",
       "      <td>{u'ip': u'131.176.145.137', u'port': 22}</td>\n",
       "      <td>{u'data': {u'banner': u'SSH-2.0-OpenSSH_4.2-ch...</td>\n",
       "      <td>131.176.145.137</td>\n",
       "      <td>SSH-2.0-OpenSSH_4.2-chrootssh</td>\n",
       "      <td>[]</td>\n",
       "      <td>{u'server_host_key': [u'ssh-rsa', u'ssh-dss'],...</td>\n",
       "    </tr>\n",
       "  </tbody>\n",
       "</table>\n",
       "</div>"
      ],
      "text/plain": [
       "                                      target  \\\n",
       "34  {u'ip': u'131.176.230.221', u'port': 22}   \n",
       "35  {u'ip': u'131.176.230.224', u'port': 22}   \n",
       "36  {u'ip': u'131.176.230.226', u'port': 22}   \n",
       "37    {u'ip': u'213.218.0.170', u'port': 22}   \n",
       "38  {u'ip': u'131.176.145.137', u'port': 22}   \n",
       "\n",
       "                                               result               ip  \\\n",
       "34  {u'data': {u'banner': u'SSH-2.0-OpenSSH_6.7p1'...  131.176.230.221   \n",
       "35  {u'data': {u'banner': u'SSH-2.0-OpenSSH_6.7p1'...  131.176.230.224   \n",
       "36  {u'data': {u'banner': u'SSH-2.0-OpenSSH_6.7p1'...  131.176.230.226   \n",
       "37  {u'data': {u'banner': u'SSH-2.0-OpenSSH_5.3', ...    213.218.0.170   \n",
       "38  {u'data': {u'banner': u'SSH-2.0-OpenSSH_4.2-ch...  131.176.145.137   \n",
       "\n",
       "                           banner cyphers  \\\n",
       "34          SSH-2.0-OpenSSH_6.7p1      []   \n",
       "35          SSH-2.0-OpenSSH_6.7p1      []   \n",
       "36          SSH-2.0-OpenSSH_6.7p1      []   \n",
       "37            SSH-2.0-OpenSSH_5.3      []   \n",
       "38  SSH-2.0-OpenSSH_4.2-chrootssh      []   \n",
       "\n",
       "                                           algorithms  \n",
       "34  {u'server_host_key': [u'ssh-rsa', u'ssh-dss', ...  \n",
       "35  {u'server_host_key': [u'ssh-rsa', u'ssh-dss', ...  \n",
       "36  {u'server_host_key': [u'ssh-rsa', u'ssh-dss', ...  \n",
       "37  {u'server_host_key': [u'ssh-rsa', u'ssh-dss'],...  \n",
       "38  {u'server_host_key': [u'ssh-rsa', u'ssh-dss'],...  "
      ]
     },
     "execution_count": 29,
     "metadata": {},
     "output_type": "execute_result"
    }
   ],
   "source": [
    "df3[:5]"
   ]
  },
  {
   "cell_type": "markdown",
   "metadata": {},
   "source": [
    "Inside \"cyphers\" there are even more fields that we can explore. Notice that the \"cyphers\" field corresponds to a list, which may have several objects in it. We can build a function to get all these values out."
   ]
  },
  {
   "cell_type": "code",
   "execution_count": 30,
   "metadata": {
    "collapsed": true
   },
   "outputs": [],
   "source": [
    "def get_cyphers_length(line):\n",
    "    if not line:\n",
    "        return None\n",
    "    \n",
    "    length_list = []\n",
    "    for i in range(len(line)):\n",
    "        if 'length' in line[i]:\n",
    "            length = line[i]['length']\n",
    "            length_list.append(length)\n",
    "\n",
    "    return length_list"
   ]
  },
  {
   "cell_type": "code",
   "execution_count": 31,
   "metadata": {
    "collapsed": false
   },
   "outputs": [],
   "source": [
    "df3['cyphers_length'] = df3['cyphers'].map(get_cyphers_length)"
   ]
  },
  {
   "cell_type": "markdown",
   "metadata": {},
   "source": [
    "You can also build a function to gather all the cyphers."
   ]
  },
  {
   "cell_type": "code",
   "execution_count": 32,
   "metadata": {
    "collapsed": true
   },
   "outputs": [],
   "source": [
    "def get_cyphers_cypher(line):\n",
    "    if not line:\n",
    "        return None\n",
    "    \n",
    "    cypher_list = []\n",
    "    for i in range(len(line)):\n",
    "        if 'cypher' in line[i]:\n",
    "            cypher = line[i]['cypher']\n",
    "            cypher_list.append(cypher)\n",
    "\n",
    "    return cypher_list"
   ]
  },
  {
   "cell_type": "code",
   "execution_count": 33,
   "metadata": {
    "collapsed": true
   },
   "outputs": [],
   "source": [
    "def get_cyphers_cypher(line):\n",
    "    return None if not line else [line[i]['cypher'] for i in range(len(line)) if 'cypher' in line[i]]"
   ]
  },
  {
   "cell_type": "code",
   "execution_count": 34,
   "metadata": {
    "collapsed": false
   },
   "outputs": [],
   "source": [
    "df3['cyphers_cypher'] = df3['cyphers'].map(get_cyphers_cypher)"
   ]
  },
  {
   "cell_type": "code",
   "execution_count": 35,
   "metadata": {
    "collapsed": false
   },
   "outputs": [
    {
     "data": {
      "text/html": [
       "<div>\n",
       "<table border=\"1\" class=\"dataframe\">\n",
       "  <thead>\n",
       "    <tr style=\"text-align: right;\">\n",
       "      <th></th>\n",
       "      <th>target</th>\n",
       "      <th>result</th>\n",
       "      <th>ip</th>\n",
       "      <th>banner</th>\n",
       "      <th>cyphers</th>\n",
       "      <th>algorithms</th>\n",
       "      <th>cyphers_length</th>\n",
       "      <th>cyphers_cypher</th>\n",
       "    </tr>\n",
       "  </thead>\n",
       "  <tbody>\n",
       "    <tr>\n",
       "      <th>34</th>\n",
       "      <td>{u'ip': u'131.176.230.221', u'port': 22}</td>\n",
       "      <td>{u'data': {u'banner': u'SSH-2.0-OpenSSH_6.7p1'...</td>\n",
       "      <td>131.176.230.221</td>\n",
       "      <td>SSH-2.0-OpenSSH_6.7p1</td>\n",
       "      <td>[]</td>\n",
       "      <td>{u'server_host_key': [u'ssh-rsa', u'ssh-dss', ...</td>\n",
       "      <td>None</td>\n",
       "      <td>None</td>\n",
       "    </tr>\n",
       "    <tr>\n",
       "      <th>35</th>\n",
       "      <td>{u'ip': u'131.176.230.224', u'port': 22}</td>\n",
       "      <td>{u'data': {u'banner': u'SSH-2.0-OpenSSH_6.7p1'...</td>\n",
       "      <td>131.176.230.224</td>\n",
       "      <td>SSH-2.0-OpenSSH_6.7p1</td>\n",
       "      <td>[]</td>\n",
       "      <td>{u'server_host_key': [u'ssh-rsa', u'ssh-dss', ...</td>\n",
       "      <td>None</td>\n",
       "      <td>None</td>\n",
       "    </tr>\n",
       "    <tr>\n",
       "      <th>36</th>\n",
       "      <td>{u'ip': u'131.176.230.226', u'port': 22}</td>\n",
       "      <td>{u'data': {u'banner': u'SSH-2.0-OpenSSH_6.7p1'...</td>\n",
       "      <td>131.176.230.226</td>\n",
       "      <td>SSH-2.0-OpenSSH_6.7p1</td>\n",
       "      <td>[]</td>\n",
       "      <td>{u'server_host_key': [u'ssh-rsa', u'ssh-dss', ...</td>\n",
       "      <td>None</td>\n",
       "      <td>None</td>\n",
       "    </tr>\n",
       "    <tr>\n",
       "      <th>37</th>\n",
       "      <td>{u'ip': u'213.218.0.170', u'port': 22}</td>\n",
       "      <td>{u'data': {u'banner': u'SSH-2.0-OpenSSH_5.3', ...</td>\n",
       "      <td>213.218.0.170</td>\n",
       "      <td>SSH-2.0-OpenSSH_5.3</td>\n",
       "      <td>[]</td>\n",
       "      <td>{u'server_host_key': [u'ssh-rsa', u'ssh-dss'],...</td>\n",
       "      <td>None</td>\n",
       "      <td>None</td>\n",
       "    </tr>\n",
       "    <tr>\n",
       "      <th>38</th>\n",
       "      <td>{u'ip': u'131.176.145.137', u'port': 22}</td>\n",
       "      <td>{u'data': {u'banner': u'SSH-2.0-OpenSSH_4.2-ch...</td>\n",
       "      <td>131.176.145.137</td>\n",
       "      <td>SSH-2.0-OpenSSH_4.2-chrootssh</td>\n",
       "      <td>[]</td>\n",
       "      <td>{u'server_host_key': [u'ssh-rsa', u'ssh-dss'],...</td>\n",
       "      <td>None</td>\n",
       "      <td>None</td>\n",
       "    </tr>\n",
       "  </tbody>\n",
       "</table>\n",
       "</div>"
      ],
      "text/plain": [
       "                                      target  \\\n",
       "34  {u'ip': u'131.176.230.221', u'port': 22}   \n",
       "35  {u'ip': u'131.176.230.224', u'port': 22}   \n",
       "36  {u'ip': u'131.176.230.226', u'port': 22}   \n",
       "37    {u'ip': u'213.218.0.170', u'port': 22}   \n",
       "38  {u'ip': u'131.176.145.137', u'port': 22}   \n",
       "\n",
       "                                               result               ip  \\\n",
       "34  {u'data': {u'banner': u'SSH-2.0-OpenSSH_6.7p1'...  131.176.230.221   \n",
       "35  {u'data': {u'banner': u'SSH-2.0-OpenSSH_6.7p1'...  131.176.230.224   \n",
       "36  {u'data': {u'banner': u'SSH-2.0-OpenSSH_6.7p1'...  131.176.230.226   \n",
       "37  {u'data': {u'banner': u'SSH-2.0-OpenSSH_5.3', ...    213.218.0.170   \n",
       "38  {u'data': {u'banner': u'SSH-2.0-OpenSSH_4.2-ch...  131.176.145.137   \n",
       "\n",
       "                           banner cyphers  \\\n",
       "34          SSH-2.0-OpenSSH_6.7p1      []   \n",
       "35          SSH-2.0-OpenSSH_6.7p1      []   \n",
       "36          SSH-2.0-OpenSSH_6.7p1      []   \n",
       "37            SSH-2.0-OpenSSH_5.3      []   \n",
       "38  SSH-2.0-OpenSSH_4.2-chrootssh      []   \n",
       "\n",
       "                                           algorithms cyphers_length  \\\n",
       "34  {u'server_host_key': [u'ssh-rsa', u'ssh-dss', ...           None   \n",
       "35  {u'server_host_key': [u'ssh-rsa', u'ssh-dss', ...           None   \n",
       "36  {u'server_host_key': [u'ssh-rsa', u'ssh-dss', ...           None   \n",
       "37  {u'server_host_key': [u'ssh-rsa', u'ssh-dss'],...           None   \n",
       "38  {u'server_host_key': [u'ssh-rsa', u'ssh-dss'],...           None   \n",
       "\n",
       "   cyphers_cypher  \n",
       "34           None  \n",
       "35           None  \n",
       "36           None  \n",
       "37           None  \n",
       "38           None  "
      ]
     },
     "execution_count": 35,
     "metadata": {},
     "output_type": "execute_result"
    }
   ],
   "source": [
    "df3[:5]"
   ]
  },
  {
   "cell_type": "markdown",
   "metadata": {},
   "source": [
    "The \"algorithms\" column also has some information that can be retrieved and organized.\n",
    "\n",
    "But before applying the map method, we need to filter the None values."
   ]
  },
  {
   "cell_type": "code",
   "execution_count": 38,
   "metadata": {
    "collapsed": false
   },
   "outputs": [],
   "source": [
    "df3['kex'] = df3['algorithms'].map(lambda x: x if x else []).map(lambda x: x['kex'] if 'kex' in x else [])"
   ]
  },
  {
   "cell_type": "code",
   "execution_count": 39,
   "metadata": {
    "collapsed": false
   },
   "outputs": [
    {
     "data": {
      "text/html": [
       "<div>\n",
       "<table border=\"1\" class=\"dataframe\">\n",
       "  <thead>\n",
       "    <tr style=\"text-align: right;\">\n",
       "      <th></th>\n",
       "      <th>target</th>\n",
       "      <th>result</th>\n",
       "      <th>ip</th>\n",
       "      <th>banner</th>\n",
       "      <th>cyphers</th>\n",
       "      <th>algorithms</th>\n",
       "      <th>cyphers_length</th>\n",
       "      <th>cyphers_cypher</th>\n",
       "      <th>kex</th>\n",
       "    </tr>\n",
       "  </thead>\n",
       "  <tbody>\n",
       "    <tr>\n",
       "      <th>34</th>\n",
       "      <td>{u'ip': u'131.176.230.221', u'port': 22}</td>\n",
       "      <td>{u'data': {u'banner': u'SSH-2.0-OpenSSH_6.7p1'...</td>\n",
       "      <td>131.176.230.221</td>\n",
       "      <td>SSH-2.0-OpenSSH_6.7p1</td>\n",
       "      <td>[]</td>\n",
       "      <td>{u'server_host_key': [u'ssh-rsa', u'ssh-dss', ...</td>\n",
       "      <td>None</td>\n",
       "      <td>None</td>\n",
       "      <td>[curve25519-sha256@libssh.org, ecdh-sha2-nistp...</td>\n",
       "    </tr>\n",
       "    <tr>\n",
       "      <th>35</th>\n",
       "      <td>{u'ip': u'131.176.230.224', u'port': 22}</td>\n",
       "      <td>{u'data': {u'banner': u'SSH-2.0-OpenSSH_6.7p1'...</td>\n",
       "      <td>131.176.230.224</td>\n",
       "      <td>SSH-2.0-OpenSSH_6.7p1</td>\n",
       "      <td>[]</td>\n",
       "      <td>{u'server_host_key': [u'ssh-rsa', u'ssh-dss', ...</td>\n",
       "      <td>None</td>\n",
       "      <td>None</td>\n",
       "      <td>[curve25519-sha256@libssh.org, ecdh-sha2-nistp...</td>\n",
       "    </tr>\n",
       "    <tr>\n",
       "      <th>36</th>\n",
       "      <td>{u'ip': u'131.176.230.226', u'port': 22}</td>\n",
       "      <td>{u'data': {u'banner': u'SSH-2.0-OpenSSH_6.7p1'...</td>\n",
       "      <td>131.176.230.226</td>\n",
       "      <td>SSH-2.0-OpenSSH_6.7p1</td>\n",
       "      <td>[]</td>\n",
       "      <td>{u'server_host_key': [u'ssh-rsa', u'ssh-dss', ...</td>\n",
       "      <td>None</td>\n",
       "      <td>None</td>\n",
       "      <td>[curve25519-sha256@libssh.org, ecdh-sha2-nistp...</td>\n",
       "    </tr>\n",
       "    <tr>\n",
       "      <th>37</th>\n",
       "      <td>{u'ip': u'213.218.0.170', u'port': 22}</td>\n",
       "      <td>{u'data': {u'banner': u'SSH-2.0-OpenSSH_5.3', ...</td>\n",
       "      <td>213.218.0.170</td>\n",
       "      <td>SSH-2.0-OpenSSH_5.3</td>\n",
       "      <td>[]</td>\n",
       "      <td>{u'server_host_key': [u'ssh-rsa', u'ssh-dss'],...</td>\n",
       "      <td>None</td>\n",
       "      <td>None</td>\n",
       "      <td>[diffie-hellman-group-exchange-sha256, diffie-...</td>\n",
       "    </tr>\n",
       "    <tr>\n",
       "      <th>38</th>\n",
       "      <td>{u'ip': u'131.176.145.137', u'port': 22}</td>\n",
       "      <td>{u'data': {u'banner': u'SSH-2.0-OpenSSH_4.2-ch...</td>\n",
       "      <td>131.176.145.137</td>\n",
       "      <td>SSH-2.0-OpenSSH_4.2-chrootssh</td>\n",
       "      <td>[]</td>\n",
       "      <td>{u'server_host_key': [u'ssh-rsa', u'ssh-dss'],...</td>\n",
       "      <td>None</td>\n",
       "      <td>None</td>\n",
       "      <td>[diffie-hellman-group-exchange-sha1, diffie-he...</td>\n",
       "    </tr>\n",
       "  </tbody>\n",
       "</table>\n",
       "</div>"
      ],
      "text/plain": [
       "                                      target  \\\n",
       "34  {u'ip': u'131.176.230.221', u'port': 22}   \n",
       "35  {u'ip': u'131.176.230.224', u'port': 22}   \n",
       "36  {u'ip': u'131.176.230.226', u'port': 22}   \n",
       "37    {u'ip': u'213.218.0.170', u'port': 22}   \n",
       "38  {u'ip': u'131.176.145.137', u'port': 22}   \n",
       "\n",
       "                                               result               ip  \\\n",
       "34  {u'data': {u'banner': u'SSH-2.0-OpenSSH_6.7p1'...  131.176.230.221   \n",
       "35  {u'data': {u'banner': u'SSH-2.0-OpenSSH_6.7p1'...  131.176.230.224   \n",
       "36  {u'data': {u'banner': u'SSH-2.0-OpenSSH_6.7p1'...  131.176.230.226   \n",
       "37  {u'data': {u'banner': u'SSH-2.0-OpenSSH_5.3', ...    213.218.0.170   \n",
       "38  {u'data': {u'banner': u'SSH-2.0-OpenSSH_4.2-ch...  131.176.145.137   \n",
       "\n",
       "                           banner cyphers  \\\n",
       "34          SSH-2.0-OpenSSH_6.7p1      []   \n",
       "35          SSH-2.0-OpenSSH_6.7p1      []   \n",
       "36          SSH-2.0-OpenSSH_6.7p1      []   \n",
       "37            SSH-2.0-OpenSSH_5.3      []   \n",
       "38  SSH-2.0-OpenSSH_4.2-chrootssh      []   \n",
       "\n",
       "                                           algorithms cyphers_length  \\\n",
       "34  {u'server_host_key': [u'ssh-rsa', u'ssh-dss', ...           None   \n",
       "35  {u'server_host_key': [u'ssh-rsa', u'ssh-dss', ...           None   \n",
       "36  {u'server_host_key': [u'ssh-rsa', u'ssh-dss', ...           None   \n",
       "37  {u'server_host_key': [u'ssh-rsa', u'ssh-dss'],...           None   \n",
       "38  {u'server_host_key': [u'ssh-rsa', u'ssh-dss'],...           None   \n",
       "\n",
       "   cyphers_cypher                                                kex  \n",
       "34           None  [curve25519-sha256@libssh.org, ecdh-sha2-nistp...  \n",
       "35           None  [curve25519-sha256@libssh.org, ecdh-sha2-nistp...  \n",
       "36           None  [curve25519-sha256@libssh.org, ecdh-sha2-nistp...  \n",
       "37           None  [diffie-hellman-group-exchange-sha256, diffie-...  \n",
       "38           None  [diffie-hellman-group-exchange-sha1, diffie-he...  "
      ]
     },
     "execution_count": 39,
     "metadata": {},
     "output_type": "execute_result"
    }
   ],
   "source": [
    "df3[:5]"
   ]
  },
  {
   "cell_type": "markdown",
   "metadata": {},
   "source": [
    "With the data we've treated so far, we can already compute some metrics and draw some conclusions.\n",
    "\n",
    "We can, for instance, try to understand which banners are most used by the IP Address range that was scanned. In order to do that, we can group the values of the banners in the dataframe.\n",
    "\n",
    "\"groupby()\", groups the values of by a given column of the dataframe.\n",
    "\n",
    "\"reset_index()\", resets the indexes of the dataframe (might be needed to solve wierd errors).\n",
    "\n",
    "\"sort_values()\", sorts the values, ascending or descendingly according to a given column."
   ]
  },
  {
   "cell_type": "code",
   "execution_count": 40,
   "metadata": {
    "collapsed": false
   },
   "outputs": [],
   "source": [
    "df_banners = pd.DataFrame({'counts': df3.groupby(['banner']).size()}) \\\n",
    "    .reset_index() \\\n",
    "    .sort_values(by = 'counts', ascending = False)"
   ]
  },
  {
   "cell_type": "code",
   "execution_count": 41,
   "metadata": {
    "collapsed": false
   },
   "outputs": [
    {
     "data": {
      "text/html": [
       "<div>\n",
       "<table border=\"1\" class=\"dataframe\">\n",
       "  <thead>\n",
       "    <tr style=\"text-align: right;\">\n",
       "      <th></th>\n",
       "      <th>banner</th>\n",
       "      <th>counts</th>\n",
       "    </tr>\n",
       "  </thead>\n",
       "  <tbody>\n",
       "    <tr>\n",
       "      <th>13</th>\n",
       "      <td>SSH-2.0-OpenSSH_6.7p1</td>\n",
       "      <td>5</td>\n",
       "    </tr>\n",
       "    <tr>\n",
       "      <th>9</th>\n",
       "      <td>SSH-2.0-OpenSSH_5.3</td>\n",
       "      <td>3</td>\n",
       "    </tr>\n",
       "    <tr>\n",
       "      <th>14</th>\n",
       "      <td>SSH-2.0-OpenSSH_7.2</td>\n",
       "      <td>2</td>\n",
       "    </tr>\n",
       "    <tr>\n",
       "      <th>11</th>\n",
       "      <td>SSH-2.0-OpenSSH_6.6.1p1</td>\n",
       "      <td>2</td>\n",
       "    </tr>\n",
       "    <tr>\n",
       "      <th>0</th>\n",
       "      <td>SSH-1.99-OpenSSH_4.6</td>\n",
       "      <td>1</td>\n",
       "    </tr>\n",
       "    <tr>\n",
       "      <th>15</th>\n",
       "      <td>SSH-2.0-OpenSSH_7.2p2</td>\n",
       "      <td>1</td>\n",
       "    </tr>\n",
       "    <tr>\n",
       "      <th>12</th>\n",
       "      <td>SSH-2.0-OpenSSH_6.6p1</td>\n",
       "      <td>1</td>\n",
       "    </tr>\n",
       "    <tr>\n",
       "      <th>10</th>\n",
       "      <td>SSH-2.0-OpenSSH_6.0p1</td>\n",
       "      <td>1</td>\n",
       "    </tr>\n",
       "    <tr>\n",
       "      <th>8</th>\n",
       "      <td>SSH-2.0-OpenSSH_5.2p1</td>\n",
       "      <td>1</td>\n",
       "    </tr>\n",
       "    <tr>\n",
       "      <th>1</th>\n",
       "      <td>SSH-2.0-Cisco-1.25</td>\n",
       "      <td>1</td>\n",
       "    </tr>\n",
       "    <tr>\n",
       "      <th>7</th>\n",
       "      <td>SSH-2.0-OpenSSH_4.6p1</td>\n",
       "      <td>1</td>\n",
       "    </tr>\n",
       "    <tr>\n",
       "      <th>6</th>\n",
       "      <td>SSH-2.0-OpenSSH_4.5p1</td>\n",
       "      <td>1</td>\n",
       "    </tr>\n",
       "    <tr>\n",
       "      <th>5</th>\n",
       "      <td>SSH-2.0-OpenSSH_4.3-HipServ</td>\n",
       "      <td>1</td>\n",
       "    </tr>\n",
       "    <tr>\n",
       "      <th>4</th>\n",
       "      <td>SSH-2.0-OpenSSH_4.2-chrootssh</td>\n",
       "      <td>1</td>\n",
       "    </tr>\n",
       "    <tr>\n",
       "      <th>3</th>\n",
       "      <td>SSH-2.0-OpenSSH_4.0</td>\n",
       "      <td>1</td>\n",
       "    </tr>\n",
       "    <tr>\n",
       "      <th>2</th>\n",
       "      <td>SSH-2.0-CrushFTPSSHD</td>\n",
       "      <td>1</td>\n",
       "    </tr>\n",
       "    <tr>\n",
       "      <th>16</th>\n",
       "      <td>SSH-2.0-lancom</td>\n",
       "      <td>1</td>\n",
       "    </tr>\n",
       "  </tbody>\n",
       "</table>\n",
       "</div>"
      ],
      "text/plain": [
       "                           banner  counts\n",
       "13          SSH-2.0-OpenSSH_6.7p1       5\n",
       "9             SSH-2.0-OpenSSH_5.3       3\n",
       "14            SSH-2.0-OpenSSH_7.2       2\n",
       "11        SSH-2.0-OpenSSH_6.6.1p1       2\n",
       "0            SSH-1.99-OpenSSH_4.6       1\n",
       "15          SSH-2.0-OpenSSH_7.2p2       1\n",
       "12          SSH-2.0-OpenSSH_6.6p1       1\n",
       "10          SSH-2.0-OpenSSH_6.0p1       1\n",
       "8           SSH-2.0-OpenSSH_5.2p1       1\n",
       "1              SSH-2.0-Cisco-1.25       1\n",
       "7           SSH-2.0-OpenSSH_4.6p1       1\n",
       "6           SSH-2.0-OpenSSH_4.5p1       1\n",
       "5     SSH-2.0-OpenSSH_4.3-HipServ       1\n",
       "4   SSH-2.0-OpenSSH_4.2-chrootssh       1\n",
       "3             SSH-2.0-OpenSSH_4.0       1\n",
       "2            SSH-2.0-CrushFTPSSHD       1\n",
       "16                 SSH-2.0-lancom       1"
      ]
     },
     "execution_count": 41,
     "metadata": {},
     "output_type": "execute_result"
    }
   ],
   "source": [
    "df_banners"
   ]
  },
  {
   "cell_type": "markdown",
   "metadata": {},
   "source": [
    "We can now visualize this dataframe as a plot, so that its easier to understand the banner distribution.\n",
    "\n",
    "Python has several packages that can be used to plot information (matplotlib, vincent, seaborn). This time we will be using Plotly, which is very versatile and allows the creation of interactive plots - Plotly (https://plot.ly/)"
   ]
  },
  {
   "cell_type": "code",
   "execution_count": 42,
   "metadata": {
    "collapsed": false
   },
   "outputs": [],
   "source": [
    "import plotly.plotly as py\n",
    "import plotly.graph_objs as go\n",
    "from plotly.graph_objs import *\n",
    "py.sign_in('be_bsides', 'qjbnt6hobb')"
   ]
  },
  {
   "cell_type": "markdown",
   "metadata": {},
   "source": [
    "Let us create a simple bar plot"
   ]
  },
  {
   "cell_type": "code",
   "execution_count": 43,
   "metadata": {
    "collapsed": false
   },
   "outputs": [
    {
     "name": "stdout",
     "output_type": "stream",
     "text": [
      "High five! You successfuly sent some data to your account on plotly. View your plot in your browser at https://plot.ly/~be_bsides/0 or inside your plot.ly account where it is named 'banners'\n"
     ]
    },
    {
     "data": {
      "text/html": [
       "<iframe id=\"igraph\" scrolling=\"no\" style=\"border:none;\" seamless=\"seamless\" src=\"https://plot.ly/~be_bsides/0.embed\" height=\"525px\" width=\"100%\"></iframe>"
      ],
      "text/plain": [
       "<plotly.tools.PlotlyDisplay object>"
      ]
     },
     "execution_count": 43,
     "metadata": {},
     "output_type": "execute_result"
    }
   ],
   "source": [
    "data = [go.Bar(x=df_banners['banner'], y=df_banners['counts'])]\n",
    "\n",
    "layout = go.Layout(title='SSH Banners', xaxis=dict(title = 'Banners'), yaxis=dict(title='Counts'))\n",
    "\n",
    "fig = go.Figure(data=data, layout=layout)\n",
    "py.iplot(fig, filename='banners')"
   ]
  },
  {
   "cell_type": "markdown",
   "metadata": {},
   "source": [
    "Let us explore the data a bit further - for instance, cypher length.\n",
    "\n",
    "Since some of the entries are really lists, in order to count, it's necessary to have only a single list with all the values."
   ]
  },
  {
   "cell_type": "code",
   "execution_count": 44,
   "metadata": {
    "collapsed": false
   },
   "outputs": [
    {
     "data": {
      "text/plain": [
       "[[2048, 1024], [1024, 2048], [2048, 1024], [2048], [1024, 2048]]"
      ]
     },
     "execution_count": 44,
     "metadata": {},
     "output_type": "execute_result"
    }
   ],
   "source": [
    "cyphers_length_list = list(df3['cyphers_length'].dropna())\n",
    "cyphers_length_list[:5]"
   ]
  },
  {
   "cell_type": "code",
   "execution_count": 45,
   "metadata": {
    "collapsed": false
   },
   "outputs": [
    {
     "data": {
      "text/plain": [
       "[2048, 1024, 1024, 2048, 2048]"
      ]
     },
     "execution_count": 45,
     "metadata": {},
     "output_type": "execute_result"
    }
   ],
   "source": [
    "cyphers_length_list = [item for sublist in cyphers_length_list for item in sublist]\n",
    "cyphers_length_list[:5]"
   ]
  },
  {
   "cell_type": "markdown",
   "metadata": {},
   "source": [
    "Now we can put the list in a dataframe in order to group the values (although there are other ways to do it, such as using the Counter class)."
   ]
  },
  {
   "cell_type": "code",
   "execution_count": 46,
   "metadata": {
    "collapsed": false
   },
   "outputs": [
    {
     "data": {
      "text/html": [
       "<div>\n",
       "<table border=\"1\" class=\"dataframe\">\n",
       "  <thead>\n",
       "    <tr style=\"text-align: right;\">\n",
       "      <th></th>\n",
       "      <th>0</th>\n",
       "    </tr>\n",
       "  </thead>\n",
       "  <tbody>\n",
       "    <tr>\n",
       "      <th>0</th>\n",
       "      <td>2048</td>\n",
       "    </tr>\n",
       "    <tr>\n",
       "      <th>1</th>\n",
       "      <td>1024</td>\n",
       "    </tr>\n",
       "    <tr>\n",
       "      <th>2</th>\n",
       "      <td>1024</td>\n",
       "    </tr>\n",
       "    <tr>\n",
       "      <th>3</th>\n",
       "      <td>2048</td>\n",
       "    </tr>\n",
       "    <tr>\n",
       "      <th>4</th>\n",
       "      <td>2048</td>\n",
       "    </tr>\n",
       "  </tbody>\n",
       "</table>\n",
       "</div>"
      ],
      "text/plain": [
       "      0\n",
       "0  2048\n",
       "1  1024\n",
       "2  1024\n",
       "3  2048\n",
       "4  2048"
      ]
     },
     "execution_count": 46,
     "metadata": {},
     "output_type": "execute_result"
    }
   ],
   "source": [
    "df_cyphers_length = pd.DataFrame(cyphers_length_list)\n",
    "df_cyphers_length[:5]"
   ]
  },
  {
   "cell_type": "markdown",
   "metadata": {},
   "source": [
    "You can modify the names of the columns of the dataframe by changing the df.columns instance variable"
   ]
  },
  {
   "cell_type": "code",
   "execution_count": 47,
   "metadata": {
    "collapsed": false
   },
   "outputs": [
    {
     "data": {
      "text/html": [
       "<div>\n",
       "<table border=\"1\" class=\"dataframe\">\n",
       "  <thead>\n",
       "    <tr style=\"text-align: right;\">\n",
       "      <th></th>\n",
       "      <th>length</th>\n",
       "    </tr>\n",
       "  </thead>\n",
       "  <tbody>\n",
       "    <tr>\n",
       "      <th>0</th>\n",
       "      <td>2048</td>\n",
       "    </tr>\n",
       "    <tr>\n",
       "      <th>1</th>\n",
       "      <td>1024</td>\n",
       "    </tr>\n",
       "    <tr>\n",
       "      <th>2</th>\n",
       "      <td>1024</td>\n",
       "    </tr>\n",
       "    <tr>\n",
       "      <th>3</th>\n",
       "      <td>2048</td>\n",
       "    </tr>\n",
       "    <tr>\n",
       "      <th>4</th>\n",
       "      <td>2048</td>\n",
       "    </tr>\n",
       "  </tbody>\n",
       "</table>\n",
       "</div>"
      ],
      "text/plain": [
       "   length\n",
       "0    2048\n",
       "1    1024\n",
       "2    1024\n",
       "3    2048\n",
       "4    2048"
      ]
     },
     "execution_count": 47,
     "metadata": {},
     "output_type": "execute_result"
    }
   ],
   "source": [
    "df_cyphers_length.columns = [['length']]\n",
    "df_cyphers_length[:5]"
   ]
  },
  {
   "cell_type": "code",
   "execution_count": 48,
   "metadata": {
    "collapsed": true
   },
   "outputs": [],
   "source": [
    "df_cyphers_length = pd.DataFrame({'counts': df_cyphers_length.groupby(['length']).size()}) \\\n",
    "    .reset_index() \\\n",
    "    .sort_values(by = 'counts', ascending = False)"
   ]
  },
  {
   "cell_type": "code",
   "execution_count": 49,
   "metadata": {
    "collapsed": false
   },
   "outputs": [
    {
     "data": {
      "text/html": [
       "<div>\n",
       "<table border=\"1\" class=\"dataframe\">\n",
       "  <thead>\n",
       "    <tr style=\"text-align: right;\">\n",
       "      <th></th>\n",
       "      <th>length</th>\n",
       "      <th>counts</th>\n",
       "    </tr>\n",
       "  </thead>\n",
       "  <tbody>\n",
       "    <tr>\n",
       "      <th>0</th>\n",
       "      <td>1024</td>\n",
       "      <td>13</td>\n",
       "    </tr>\n",
       "    <tr>\n",
       "      <th>1</th>\n",
       "      <td>2048</td>\n",
       "      <td>12</td>\n",
       "    </tr>\n",
       "  </tbody>\n",
       "</table>\n",
       "</div>"
      ],
      "text/plain": [
       "   length  counts\n",
       "0    1024      13\n",
       "1    2048      12"
      ]
     },
     "execution_count": 49,
     "metadata": {},
     "output_type": "execute_result"
    }
   ],
   "source": [
    "df_cyphers_length[:5]"
   ]
  },
  {
   "cell_type": "markdown",
   "metadata": {},
   "source": [
    "One interesting thing that we can do with the IP Addresses, is to visualise its location.\n",
    "\n",
    "In order to do that, we can use a database such as GeoIP (the free ones are called GeoLite)."
   ]
  },
  {
   "cell_type": "code",
   "execution_count": 50,
   "metadata": {
    "collapsed": true
   },
   "outputs": [],
   "source": [
    "from geoip2.database import Reader\n",
    "reader = Reader('/opt/geoip/GeoLite2-Country.mmdb')"
   ]
  },
  {
   "cell_type": "markdown",
   "metadata": {},
   "source": [
    "In order to get the name of the country:\n",
    "\n",
    "reader.country(ip).country.name\n",
    "\n",
    "You can also get city name, latitude, longitude, timezone, etc."
   ]
  },
  {
   "cell_type": "code",
   "execution_count": 51,
   "metadata": {
    "collapsed": false
   },
   "outputs": [
    {
     "data": {
      "text/plain": [
       "u'United States'"
      ]
     },
     "execution_count": 51,
     "metadata": {},
     "output_type": "execute_result"
    }
   ],
   "source": [
    "reader.country('131.176.230.221').country.name"
   ]
  },
  {
   "cell_type": "markdown",
   "metadata": {},
   "source": [
    "Not all IPs are mapped in these databases, as such it's necessary to take some precaution against these cases which generate exceptions."
   ]
  },
  {
   "cell_type": "code",
   "execution_count": 52,
   "metadata": {
    "collapsed": false
   },
   "outputs": [],
   "source": [
    "def ip_country(ip):\n",
    "    try:\n",
    "        return reader.country(ip).country.name\n",
    "    except:\n",
    "        return None"
   ]
  },
  {
   "cell_type": "markdown",
   "metadata": {},
   "source": [
    "Also, never do this, always try to be as specific as you can with exceptions."
   ]
  },
  {
   "cell_type": "code",
   "execution_count": 53,
   "metadata": {
    "collapsed": true
   },
   "outputs": [],
   "source": [
    "df3['country'] = df3['ip'].map(ip_country)"
   ]
  },
  {
   "cell_type": "code",
   "execution_count": 54,
   "metadata": {
    "collapsed": false
   },
   "outputs": [
    {
     "data": {
      "text/html": [
       "<div>\n",
       "<table border=\"1\" class=\"dataframe\">\n",
       "  <thead>\n",
       "    <tr style=\"text-align: right;\">\n",
       "      <th></th>\n",
       "      <th>target</th>\n",
       "      <th>result</th>\n",
       "      <th>ip</th>\n",
       "      <th>banner</th>\n",
       "      <th>cyphers</th>\n",
       "      <th>algorithms</th>\n",
       "      <th>cyphers_length</th>\n",
       "      <th>cyphers_cypher</th>\n",
       "      <th>kex</th>\n",
       "      <th>country</th>\n",
       "    </tr>\n",
       "  </thead>\n",
       "  <tbody>\n",
       "    <tr>\n",
       "      <th>34</th>\n",
       "      <td>{u'ip': u'131.176.230.221', u'port': 22}</td>\n",
       "      <td>{u'data': {u'banner': u'SSH-2.0-OpenSSH_6.7p1'...</td>\n",
       "      <td>131.176.230.221</td>\n",
       "      <td>SSH-2.0-OpenSSH_6.7p1</td>\n",
       "      <td>[]</td>\n",
       "      <td>{u'server_host_key': [u'ssh-rsa', u'ssh-dss', ...</td>\n",
       "      <td>None</td>\n",
       "      <td>None</td>\n",
       "      <td>[curve25519-sha256@libssh.org, ecdh-sha2-nistp...</td>\n",
       "      <td>United States</td>\n",
       "    </tr>\n",
       "    <tr>\n",
       "      <th>35</th>\n",
       "      <td>{u'ip': u'131.176.230.224', u'port': 22}</td>\n",
       "      <td>{u'data': {u'banner': u'SSH-2.0-OpenSSH_6.7p1'...</td>\n",
       "      <td>131.176.230.224</td>\n",
       "      <td>SSH-2.0-OpenSSH_6.7p1</td>\n",
       "      <td>[]</td>\n",
       "      <td>{u'server_host_key': [u'ssh-rsa', u'ssh-dss', ...</td>\n",
       "      <td>None</td>\n",
       "      <td>None</td>\n",
       "      <td>[curve25519-sha256@libssh.org, ecdh-sha2-nistp...</td>\n",
       "      <td>United States</td>\n",
       "    </tr>\n",
       "    <tr>\n",
       "      <th>36</th>\n",
       "      <td>{u'ip': u'131.176.230.226', u'port': 22}</td>\n",
       "      <td>{u'data': {u'banner': u'SSH-2.0-OpenSSH_6.7p1'...</td>\n",
       "      <td>131.176.230.226</td>\n",
       "      <td>SSH-2.0-OpenSSH_6.7p1</td>\n",
       "      <td>[]</td>\n",
       "      <td>{u'server_host_key': [u'ssh-rsa', u'ssh-dss', ...</td>\n",
       "      <td>None</td>\n",
       "      <td>None</td>\n",
       "      <td>[curve25519-sha256@libssh.org, ecdh-sha2-nistp...</td>\n",
       "      <td>United States</td>\n",
       "    </tr>\n",
       "    <tr>\n",
       "      <th>37</th>\n",
       "      <td>{u'ip': u'213.218.0.170', u'port': 22}</td>\n",
       "      <td>{u'data': {u'banner': u'SSH-2.0-OpenSSH_5.3', ...</td>\n",
       "      <td>213.218.0.170</td>\n",
       "      <td>SSH-2.0-OpenSSH_5.3</td>\n",
       "      <td>[]</td>\n",
       "      <td>{u'server_host_key': [u'ssh-rsa', u'ssh-dss'],...</td>\n",
       "      <td>None</td>\n",
       "      <td>None</td>\n",
       "      <td>[diffie-hellman-group-exchange-sha256, diffie-...</td>\n",
       "      <td>Germany</td>\n",
       "    </tr>\n",
       "    <tr>\n",
       "      <th>38</th>\n",
       "      <td>{u'ip': u'131.176.145.137', u'port': 22}</td>\n",
       "      <td>{u'data': {u'banner': u'SSH-2.0-OpenSSH_4.2-ch...</td>\n",
       "      <td>131.176.145.137</td>\n",
       "      <td>SSH-2.0-OpenSSH_4.2-chrootssh</td>\n",
       "      <td>[]</td>\n",
       "      <td>{u'server_host_key': [u'ssh-rsa', u'ssh-dss'],...</td>\n",
       "      <td>None</td>\n",
       "      <td>None</td>\n",
       "      <td>[diffie-hellman-group-exchange-sha1, diffie-he...</td>\n",
       "      <td>United States</td>\n",
       "    </tr>\n",
       "  </tbody>\n",
       "</table>\n",
       "</div>"
      ],
      "text/plain": [
       "                                      target  \\\n",
       "34  {u'ip': u'131.176.230.221', u'port': 22}   \n",
       "35  {u'ip': u'131.176.230.224', u'port': 22}   \n",
       "36  {u'ip': u'131.176.230.226', u'port': 22}   \n",
       "37    {u'ip': u'213.218.0.170', u'port': 22}   \n",
       "38  {u'ip': u'131.176.145.137', u'port': 22}   \n",
       "\n",
       "                                               result               ip  \\\n",
       "34  {u'data': {u'banner': u'SSH-2.0-OpenSSH_6.7p1'...  131.176.230.221   \n",
       "35  {u'data': {u'banner': u'SSH-2.0-OpenSSH_6.7p1'...  131.176.230.224   \n",
       "36  {u'data': {u'banner': u'SSH-2.0-OpenSSH_6.7p1'...  131.176.230.226   \n",
       "37  {u'data': {u'banner': u'SSH-2.0-OpenSSH_5.3', ...    213.218.0.170   \n",
       "38  {u'data': {u'banner': u'SSH-2.0-OpenSSH_4.2-ch...  131.176.145.137   \n",
       "\n",
       "                           banner cyphers  \\\n",
       "34          SSH-2.0-OpenSSH_6.7p1      []   \n",
       "35          SSH-2.0-OpenSSH_6.7p1      []   \n",
       "36          SSH-2.0-OpenSSH_6.7p1      []   \n",
       "37            SSH-2.0-OpenSSH_5.3      []   \n",
       "38  SSH-2.0-OpenSSH_4.2-chrootssh      []   \n",
       "\n",
       "                                           algorithms cyphers_length  \\\n",
       "34  {u'server_host_key': [u'ssh-rsa', u'ssh-dss', ...           None   \n",
       "35  {u'server_host_key': [u'ssh-rsa', u'ssh-dss', ...           None   \n",
       "36  {u'server_host_key': [u'ssh-rsa', u'ssh-dss', ...           None   \n",
       "37  {u'server_host_key': [u'ssh-rsa', u'ssh-dss'],...           None   \n",
       "38  {u'server_host_key': [u'ssh-rsa', u'ssh-dss'],...           None   \n",
       "\n",
       "   cyphers_cypher                                                kex  \\\n",
       "34           None  [curve25519-sha256@libssh.org, ecdh-sha2-nistp...   \n",
       "35           None  [curve25519-sha256@libssh.org, ecdh-sha2-nistp...   \n",
       "36           None  [curve25519-sha256@libssh.org, ecdh-sha2-nistp...   \n",
       "37           None  [diffie-hellman-group-exchange-sha256, diffie-...   \n",
       "38           None  [diffie-hellman-group-exchange-sha1, diffie-he...   \n",
       "\n",
       "          country  \n",
       "34  United States  \n",
       "35  United States  \n",
       "36  United States  \n",
       "37        Germany  \n",
       "38  United States  "
      ]
     },
     "execution_count": 54,
     "metadata": {},
     "output_type": "execute_result"
    }
   ],
   "source": [
    "df3[:5]"
   ]
  },
  {
   "cell_type": "markdown",
   "metadata": {},
   "source": [
    "To better understand the geographic distribution of IPs, we can also build a map.\n",
    "\n",
    "First we need to group by country:"
   ]
  },
  {
   "cell_type": "code",
   "execution_count": 55,
   "metadata": {
    "collapsed": false
   },
   "outputs": [],
   "source": [
    "df_country = df3[['country']]\n",
    "df_country['counts'] = df_country.groupby('country')['country'].transform('count')\n",
    "df_country = df_country.dropna()\n",
    "df_country = df_country.drop_duplicates()"
   ]
  },
  {
   "cell_type": "code",
   "execution_count": 56,
   "metadata": {
    "collapsed": false
   },
   "outputs": [
    {
     "data": {
      "text/html": [
       "<div>\n",
       "<table border=\"1\" class=\"dataframe\">\n",
       "  <thead>\n",
       "    <tr style=\"text-align: right;\">\n",
       "      <th></th>\n",
       "      <th>country</th>\n",
       "      <th>counts</th>\n",
       "    </tr>\n",
       "  </thead>\n",
       "  <tbody>\n",
       "    <tr>\n",
       "      <th>34</th>\n",
       "      <td>United States</td>\n",
       "      <td>57</td>\n",
       "    </tr>\n",
       "    <tr>\n",
       "      <th>37</th>\n",
       "      <td>Germany</td>\n",
       "      <td>44</td>\n",
       "    </tr>\n",
       "  </tbody>\n",
       "</table>\n",
       "</div>"
      ],
      "text/plain": [
       "          country  counts\n",
       "34  United States      57\n",
       "37        Germany      44"
      ]
     },
     "execution_count": 56,
     "metadata": {},
     "output_type": "execute_result"
    }
   ],
   "source": [
    "df_country[:5]"
   ]
  },
  {
   "cell_type": "markdown",
   "metadata": {},
   "source": [
    "Then we need to map country names and respective 3-letter country codes, because Plotly only recognizes 3-letter country codes in order to build maps."
   ]
  },
  {
   "cell_type": "code",
   "execution_count": 57,
   "metadata": {
    "collapsed": true
   },
   "outputs": [],
   "source": [
    "wmap = pd.read_csv('https://raw.githubusercontent.com/plotly/datasets/master/2014_world_gdp_with_codes.csv')\n",
    "\n",
    "countries = wmap['COUNTRY'].tolist()\n",
    "codes = wmap['CODE'].tolist()\n",
    "dic_countries = dict(zip(countries, codes))"
   ]
  },
  {
   "cell_type": "markdown",
   "metadata": {},
   "source": [
    "In order for every country to appear, its necessary to have a full list of countries, even those with no occurrences."
   ]
  },
  {
   "cell_type": "code",
   "execution_count": 58,
   "metadata": {
    "collapsed": false
   },
   "outputs": [],
   "source": [
    "df_countries = pd.DataFrame(columns = ['countries', 'codes', 'counts'])\n",
    "df_countries['countries'] = countries\n",
    "df_countries['counts'] = 0.0\n",
    "df_countries['codes'] = df_countries['countries'].map(dic_countries)\n",
    "\n",
    "countries_notnull = set(df_country['country'].tolist())\n",
    "    \n",
    "for country in countries_notnull:\n",
    "    df_countries['counts'].loc[df_countries['countries'] == country] = df_country['counts'][df_country['country'] == country].values[0]"
   ]
  },
  {
   "cell_type": "code",
   "execution_count": 59,
   "metadata": {
    "collapsed": false
   },
   "outputs": [
    {
     "data": {
      "text/html": [
       "<iframe id=\"igraph\" scrolling=\"no\" style=\"border:none;\" seamless=\"seamless\" src=\"https://plot.ly/~be_bsides/2.embed\" height=\"525px\" width=\"100%\"></iframe>"
      ],
      "text/plain": [
       "<plotly.tools.PlotlyDisplay object>"
      ]
     },
     "execution_count": 59,
     "metadata": {},
     "output_type": "execute_result"
    }
   ],
   "source": [
    "data = [dict(\n",
    "        type = 'choropleth',\n",
    "        locations = df_countries['codes'],\n",
    "        z = df_countries['counts'],\n",
    "        text = df_countries['countries'],\n",
    "        colorscale = [[0,\"rgb(5, 10, 172)\"],[0.35,\"rgb(40, 60, 190)\"],[0.5,\"rgb(70, 100, 245)\"], \\\n",
    "            [0.6,\"rgb(90, 120, 245)\"],[0.7,\"rgb(106, 137, 247)\"],[1,\"rgb(220, 220, 220)\"]],\n",
    "        autocolorscale = False,\n",
    "        reversescale = True,\n",
    "        marker = dict(\n",
    "            line = dict(\n",
    "                color = 'rgb(180,180,180)',\n",
    "                width = 0.5\n",
    "            )\n",
    "        ),\n",
    "        tick0 = 0,\n",
    "        zmin = 0,\n",
    "        dtick = 1000,\n",
    "        colorbar = dict(\n",
    "            autotick = False,\n",
    "            ticksufix = '%',\n",
    "            title = 'Worldwide Distribution'\n",
    "        ),\n",
    "    )]\n",
    "\n",
    "layout = dict(\n",
    "    title = 'Worldwide distribution',\n",
    "    geo = dict(\n",
    "        showframe = False,\n",
    "        showcoastlines = False,\n",
    "        projection = dict(\n",
    "            type = 'Mercator'\n",
    "        )\n",
    "    )\n",
    ")\n",
    "\n",
    "fig = dict(data=data, layout=layout)\n",
    "py.iplot(fig, validate=False, filename='worldmap')"
   ]
  },
  {
   "cell_type": "code",
   "execution_count": null,
   "metadata": {
    "collapsed": true
   },
   "outputs": [],
   "source": []
  }
 ],
 "metadata": {
  "hide_input": false,
  "kernelspec": {
   "display_name": "Python 2",
   "language": "python",
   "name": "python2"
  },
  "language_info": {
   "codemirror_mode": {
    "name": "ipython",
    "version": 2
   },
   "file_extension": ".py",
   "mimetype": "text/x-python",
   "name": "python",
   "nbconvert_exporter": "python",
   "pygments_lexer": "ipython2",
   "version": "2.7.6"
  }
 },
 "nbformat": 4,
 "nbformat_minor": 1
}
